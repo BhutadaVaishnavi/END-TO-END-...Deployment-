{
 "cells": [
  {
   "cell_type": "code",
   "execution_count": 1,
   "id": "026a3ca3",
   "metadata": {},
   "outputs": [],
   "source": [
    "import pandas as pd\n",
    "import numpy as np"
   ]
  },
  {
   "cell_type": "code",
   "execution_count": 2,
   "id": "b467d5d3",
   "metadata": {},
   "outputs": [
    {
     "data": {
      "text/html": [
       "<div>\n",
       "<style scoped>\n",
       "    .dataframe tbody tr th:only-of-type {\n",
       "        vertical-align: middle;\n",
       "    }\n",
       "\n",
       "    .dataframe tbody tr th {\n",
       "        vertical-align: top;\n",
       "    }\n",
       "\n",
       "    .dataframe thead th {\n",
       "        text-align: right;\n",
       "    }\n",
       "</style>\n",
       "<table border=\"1\" class=\"dataframe\">\n",
       "  <thead>\n",
       "    <tr style=\"text-align: right;\">\n",
       "      <th></th>\n",
       "      <th>Marketing expense</th>\n",
       "      <th>Production expense</th>\n",
       "      <th>Multiplex coverage</th>\n",
       "      <th>Budget</th>\n",
       "      <th>Movie_length</th>\n",
       "      <th>Lead_ Actor_Rating</th>\n",
       "      <th>Lead_Actress_rating</th>\n",
       "      <th>Director_rating</th>\n",
       "      <th>Producer_rating</th>\n",
       "      <th>Critic_rating</th>\n",
       "      <th>Trailer_views</th>\n",
       "      <th>3D_available</th>\n",
       "      <th>Time_taken</th>\n",
       "      <th>Twitter_hastags</th>\n",
       "      <th>Genre</th>\n",
       "      <th>Avg_age_actors</th>\n",
       "      <th>Num_multiplex</th>\n",
       "      <th>Collection</th>\n",
       "    </tr>\n",
       "  </thead>\n",
       "  <tbody>\n",
       "    <tr>\n",
       "      <th>0</th>\n",
       "      <td>20.1264</td>\n",
       "      <td>59.62</td>\n",
       "      <td>0.462</td>\n",
       "      <td>36524.125</td>\n",
       "      <td>138.7</td>\n",
       "      <td>7.825</td>\n",
       "      <td>8.095</td>\n",
       "      <td>7.910</td>\n",
       "      <td>7.995</td>\n",
       "      <td>7.94</td>\n",
       "      <td>527367</td>\n",
       "      <td>YES</td>\n",
       "      <td>109.60</td>\n",
       "      <td>223.840</td>\n",
       "      <td>Thriller</td>\n",
       "      <td>23</td>\n",
       "      <td>494</td>\n",
       "      <td>48000</td>\n",
       "    </tr>\n",
       "    <tr>\n",
       "      <th>1</th>\n",
       "      <td>20.5462</td>\n",
       "      <td>69.14</td>\n",
       "      <td>0.531</td>\n",
       "      <td>35668.655</td>\n",
       "      <td>152.4</td>\n",
       "      <td>7.505</td>\n",
       "      <td>7.650</td>\n",
       "      <td>7.440</td>\n",
       "      <td>7.470</td>\n",
       "      <td>7.44</td>\n",
       "      <td>494055</td>\n",
       "      <td>NO</td>\n",
       "      <td>146.64</td>\n",
       "      <td>243.456</td>\n",
       "      <td>Drama</td>\n",
       "      <td>42</td>\n",
       "      <td>462</td>\n",
       "      <td>43200</td>\n",
       "    </tr>\n",
       "    <tr>\n",
       "      <th>2</th>\n",
       "      <td>20.5458</td>\n",
       "      <td>69.14</td>\n",
       "      <td>0.531</td>\n",
       "      <td>39912.675</td>\n",
       "      <td>134.6</td>\n",
       "      <td>7.485</td>\n",
       "      <td>7.570</td>\n",
       "      <td>7.495</td>\n",
       "      <td>7.515</td>\n",
       "      <td>7.44</td>\n",
       "      <td>547051</td>\n",
       "      <td>NO</td>\n",
       "      <td>147.88</td>\n",
       "      <td>2022.400</td>\n",
       "      <td>Comedy</td>\n",
       "      <td>38</td>\n",
       "      <td>458</td>\n",
       "      <td>69400</td>\n",
       "    </tr>\n",
       "    <tr>\n",
       "      <th>3</th>\n",
       "      <td>20.6474</td>\n",
       "      <td>59.36</td>\n",
       "      <td>0.542</td>\n",
       "      <td>38873.890</td>\n",
       "      <td>119.3</td>\n",
       "      <td>6.895</td>\n",
       "      <td>7.035</td>\n",
       "      <td>6.920</td>\n",
       "      <td>7.020</td>\n",
       "      <td>8.26</td>\n",
       "      <td>516279</td>\n",
       "      <td>YES</td>\n",
       "      <td>185.36</td>\n",
       "      <td>225.344</td>\n",
       "      <td>Drama</td>\n",
       "      <td>45</td>\n",
       "      <td>472</td>\n",
       "      <td>66800</td>\n",
       "    </tr>\n",
       "    <tr>\n",
       "      <th>4</th>\n",
       "      <td>21.3810</td>\n",
       "      <td>59.36</td>\n",
       "      <td>0.542</td>\n",
       "      <td>39701.585</td>\n",
       "      <td>127.7</td>\n",
       "      <td>6.920</td>\n",
       "      <td>7.070</td>\n",
       "      <td>6.815</td>\n",
       "      <td>7.070</td>\n",
       "      <td>8.26</td>\n",
       "      <td>531448</td>\n",
       "      <td>NO</td>\n",
       "      <td>176.48</td>\n",
       "      <td>225.792</td>\n",
       "      <td>Drama</td>\n",
       "      <td>55</td>\n",
       "      <td>395</td>\n",
       "      <td>72400</td>\n",
       "    </tr>\n",
       "    <tr>\n",
       "      <th>...</th>\n",
       "      <td>...</td>\n",
       "      <td>...</td>\n",
       "      <td>...</td>\n",
       "      <td>...</td>\n",
       "      <td>...</td>\n",
       "      <td>...</td>\n",
       "      <td>...</td>\n",
       "      <td>...</td>\n",
       "      <td>...</td>\n",
       "      <td>...</td>\n",
       "      <td>...</td>\n",
       "      <td>...</td>\n",
       "      <td>...</td>\n",
       "      <td>...</td>\n",
       "      <td>...</td>\n",
       "      <td>...</td>\n",
       "      <td>...</td>\n",
       "      <td>...</td>\n",
       "    </tr>\n",
       "    <tr>\n",
       "      <th>501</th>\n",
       "      <td>21.2526</td>\n",
       "      <td>78.86</td>\n",
       "      <td>0.427</td>\n",
       "      <td>36624.115</td>\n",
       "      <td>142.6</td>\n",
       "      <td>8.680</td>\n",
       "      <td>8.775</td>\n",
       "      <td>8.620</td>\n",
       "      <td>8.970</td>\n",
       "      <td>6.80</td>\n",
       "      <td>492480</td>\n",
       "      <td>NO</td>\n",
       "      <td>186.96</td>\n",
       "      <td>243.584</td>\n",
       "      <td>Action</td>\n",
       "      <td>27</td>\n",
       "      <td>561</td>\n",
       "      <td>44800</td>\n",
       "    </tr>\n",
       "    <tr>\n",
       "      <th>502</th>\n",
       "      <td>20.9054</td>\n",
       "      <td>78.86</td>\n",
       "      <td>0.427</td>\n",
       "      <td>33996.600</td>\n",
       "      <td>150.2</td>\n",
       "      <td>8.780</td>\n",
       "      <td>8.945</td>\n",
       "      <td>8.770</td>\n",
       "      <td>8.930</td>\n",
       "      <td>7.80</td>\n",
       "      <td>482875</td>\n",
       "      <td>YES</td>\n",
       "      <td>132.24</td>\n",
       "      <td>263.296</td>\n",
       "      <td>Action</td>\n",
       "      <td>20</td>\n",
       "      <td>600</td>\n",
       "      <td>41200</td>\n",
       "    </tr>\n",
       "    <tr>\n",
       "      <th>503</th>\n",
       "      <td>21.2152</td>\n",
       "      <td>78.86</td>\n",
       "      <td>0.427</td>\n",
       "      <td>38751.680</td>\n",
       "      <td>164.5</td>\n",
       "      <td>8.830</td>\n",
       "      <td>8.970</td>\n",
       "      <td>8.855</td>\n",
       "      <td>9.010</td>\n",
       "      <td>7.80</td>\n",
       "      <td>532239</td>\n",
       "      <td>NO</td>\n",
       "      <td>109.56</td>\n",
       "      <td>243.824</td>\n",
       "      <td>Comedy</td>\n",
       "      <td>31</td>\n",
       "      <td>576</td>\n",
       "      <td>47800</td>\n",
       "    </tr>\n",
       "    <tr>\n",
       "      <th>504</th>\n",
       "      <td>22.1918</td>\n",
       "      <td>78.86</td>\n",
       "      <td>0.427</td>\n",
       "      <td>37740.670</td>\n",
       "      <td>162.8</td>\n",
       "      <td>8.730</td>\n",
       "      <td>8.845</td>\n",
       "      <td>8.800</td>\n",
       "      <td>8.845</td>\n",
       "      <td>6.80</td>\n",
       "      <td>496077</td>\n",
       "      <td>YES</td>\n",
       "      <td>158.80</td>\n",
       "      <td>303.520</td>\n",
       "      <td>Comedy</td>\n",
       "      <td>47</td>\n",
       "      <td>607</td>\n",
       "      <td>44000</td>\n",
       "    </tr>\n",
       "    <tr>\n",
       "      <th>505</th>\n",
       "      <td>20.9482</td>\n",
       "      <td>78.86</td>\n",
       "      <td>0.427</td>\n",
       "      <td>33496.650</td>\n",
       "      <td>154.3</td>\n",
       "      <td>8.640</td>\n",
       "      <td>8.880</td>\n",
       "      <td>8.680</td>\n",
       "      <td>8.790</td>\n",
       "      <td>6.80</td>\n",
       "      <td>518438</td>\n",
       "      <td>YES</td>\n",
       "      <td>205.60</td>\n",
       "      <td>203.040</td>\n",
       "      <td>Comedy</td>\n",
       "      <td>45</td>\n",
       "      <td>604</td>\n",
       "      <td>38000</td>\n",
       "    </tr>\n",
       "  </tbody>\n",
       "</table>\n",
       "<p>506 rows × 18 columns</p>\n",
       "</div>"
      ],
      "text/plain": [
       "     Marketing expense  Production expense  Multiplex coverage     Budget  \\\n",
       "0              20.1264               59.62               0.462  36524.125   \n",
       "1              20.5462               69.14               0.531  35668.655   \n",
       "2              20.5458               69.14               0.531  39912.675   \n",
       "3              20.6474               59.36               0.542  38873.890   \n",
       "4              21.3810               59.36               0.542  39701.585   \n",
       "..                 ...                 ...                 ...        ...   \n",
       "501            21.2526               78.86               0.427  36624.115   \n",
       "502            20.9054               78.86               0.427  33996.600   \n",
       "503            21.2152               78.86               0.427  38751.680   \n",
       "504            22.1918               78.86               0.427  37740.670   \n",
       "505            20.9482               78.86               0.427  33496.650   \n",
       "\n",
       "     Movie_length  Lead_ Actor_Rating  Lead_Actress_rating  Director_rating  \\\n",
       "0           138.7               7.825                8.095            7.910   \n",
       "1           152.4               7.505                7.650            7.440   \n",
       "2           134.6               7.485                7.570            7.495   \n",
       "3           119.3               6.895                7.035            6.920   \n",
       "4           127.7               6.920                7.070            6.815   \n",
       "..            ...                 ...                  ...              ...   \n",
       "501         142.6               8.680                8.775            8.620   \n",
       "502         150.2               8.780                8.945            8.770   \n",
       "503         164.5               8.830                8.970            8.855   \n",
       "504         162.8               8.730                8.845            8.800   \n",
       "505         154.3               8.640                8.880            8.680   \n",
       "\n",
       "     Producer_rating  Critic_rating  Trailer_views 3D_available  Time_taken  \\\n",
       "0              7.995           7.94         527367          YES      109.60   \n",
       "1              7.470           7.44         494055           NO      146.64   \n",
       "2              7.515           7.44         547051           NO      147.88   \n",
       "3              7.020           8.26         516279          YES      185.36   \n",
       "4              7.070           8.26         531448           NO      176.48   \n",
       "..               ...            ...            ...          ...         ...   \n",
       "501            8.970           6.80         492480           NO      186.96   \n",
       "502            8.930           7.80         482875          YES      132.24   \n",
       "503            9.010           7.80         532239           NO      109.56   \n",
       "504            8.845           6.80         496077          YES      158.80   \n",
       "505            8.790           6.80         518438          YES      205.60   \n",
       "\n",
       "     Twitter_hastags     Genre  Avg_age_actors  Num_multiplex  Collection  \n",
       "0            223.840  Thriller              23            494       48000  \n",
       "1            243.456     Drama              42            462       43200  \n",
       "2           2022.400    Comedy              38            458       69400  \n",
       "3            225.344     Drama              45            472       66800  \n",
       "4            225.792     Drama              55            395       72400  \n",
       "..               ...       ...             ...            ...         ...  \n",
       "501          243.584    Action              27            561       44800  \n",
       "502          263.296    Action              20            600       41200  \n",
       "503          243.824    Comedy              31            576       47800  \n",
       "504          303.520    Comedy              47            607       44000  \n",
       "505          203.040    Comedy              45            604       38000  \n",
       "\n",
       "[506 rows x 18 columns]"
      ]
     },
     "execution_count": 2,
     "metadata": {},
     "output_type": "execute_result"
    }
   ],
   "source": [
    "df= pd.read_csv('Movie_regression.xls')\n",
    "df"
   ]
  },
  {
   "cell_type": "code",
   "execution_count": 3,
   "id": "d843705e",
   "metadata": {},
   "outputs": [
    {
     "name": "stdout",
     "output_type": "stream",
     "text": [
      "<class 'pandas.core.frame.DataFrame'>\n",
      "RangeIndex: 506 entries, 0 to 505\n",
      "Data columns (total 18 columns):\n",
      " #   Column               Non-Null Count  Dtype  \n",
      "---  ------               --------------  -----  \n",
      " 0   Marketing expense    506 non-null    float64\n",
      " 1   Production expense   506 non-null    float64\n",
      " 2   Multiplex coverage   506 non-null    float64\n",
      " 3   Budget               506 non-null    float64\n",
      " 4   Movie_length         506 non-null    float64\n",
      " 5   Lead_ Actor_Rating   506 non-null    float64\n",
      " 6   Lead_Actress_rating  506 non-null    float64\n",
      " 7   Director_rating      506 non-null    float64\n",
      " 8   Producer_rating      506 non-null    float64\n",
      " 9   Critic_rating        506 non-null    float64\n",
      " 10  Trailer_views        506 non-null    int64  \n",
      " 11  3D_available         506 non-null    object \n",
      " 12  Time_taken           494 non-null    float64\n",
      " 13  Twitter_hastags      506 non-null    float64\n",
      " 14  Genre                506 non-null    object \n",
      " 15  Avg_age_actors       506 non-null    int64  \n",
      " 16  Num_multiplex        506 non-null    int64  \n",
      " 17  Collection           506 non-null    int64  \n",
      "dtypes: float64(12), int64(4), object(2)\n",
      "memory usage: 71.3+ KB\n"
     ]
    }
   ],
   "source": [
    "df.info()"
   ]
  },
  {
   "cell_type": "code",
   "execution_count": 4,
   "id": "aaa2e82c",
   "metadata": {},
   "outputs": [
    {
     "data": {
      "text/plain": [
       "Marketing expense       0\n",
       "Production expense      0\n",
       "Multiplex coverage      0\n",
       "Budget                  0\n",
       "Movie_length            0\n",
       "Lead_ Actor_Rating      0\n",
       "Lead_Actress_rating     0\n",
       "Director_rating         0\n",
       "Producer_rating         0\n",
       "Critic_rating           0\n",
       "Trailer_views           0\n",
       "3D_available            0\n",
       "Time_taken             12\n",
       "Twitter_hastags         0\n",
       "Genre                   0\n",
       "Avg_age_actors          0\n",
       "Num_multiplex           0\n",
       "Collection              0\n",
       "dtype: int64"
      ]
     },
     "execution_count": 4,
     "metadata": {},
     "output_type": "execute_result"
    }
   ],
   "source": [
    "df.isnull().sum()"
   ]
  },
  {
   "cell_type": "code",
   "execution_count": 5,
   "id": "6db30318",
   "metadata": {},
   "outputs": [
    {
     "name": "stdout",
     "output_type": "stream",
     "text": [
      "157.3914979757085\n",
      "160.0\n",
      "0    119.36\n",
      "1    171.28\n",
      "2    189.56\n",
      "Name: Time_taken, dtype: float64\n"
     ]
    }
   ],
   "source": [
    "print(df['Time_taken'].mean())\n",
    "print(df['Time_taken'].median())\n",
    "print(df['Time_taken'].mode())"
   ]
  },
  {
   "cell_type": "code",
   "execution_count": 6,
   "id": "48665895",
   "metadata": {},
   "outputs": [
    {
     "data": {
      "image/png": "[encoded data removed]",
      "text/plain": [
       "<Figure size 640x480 with 1 Axes>"
      ]
     },
     "metadata": {},
     "output_type": "display_data"
    }
   ],
   "source": [
    "import matplotlib.pyplot as plt\n",
    "plt.hist((df['Time_taken']))\n",
    "plt.show()\n",
    "        "
   ]
  },
  {
   "cell_type": "code",
   "execution_count": 7,
   "id": "835fb63a",
   "metadata": {},
   "outputs": [],
   "source": [
    "df['Time_taken'].fillna(df['Time_taken'].median(), inplace= True)"
   ]
  },
  {
   "cell_type": "code",
   "execution_count": 8,
   "id": "97328a89",
   "metadata": {},
   "outputs": [
    {
     "data": {
      "text/plain": [
       "Marketing expense      0\n",
       "Production expense     0\n",
       "Multiplex coverage     0\n",
       "Budget                 0\n",
       "Movie_length           0\n",
       "Lead_ Actor_Rating     0\n",
       "Lead_Actress_rating    0\n",
       "Director_rating        0\n",
       "Producer_rating        0\n",
       "Critic_rating          0\n",
       "Trailer_views          0\n",
       "3D_available           0\n",
       "Time_taken             0\n",
       "Twitter_hastags        0\n",
       "Genre                  0\n",
       "Avg_age_actors         0\n",
       "Num_multiplex          0\n",
       "Collection             0\n",
       "dtype: int64"
      ]
     },
     "execution_count": 8,
     "metadata": {},
     "output_type": "execute_result"
    }
   ],
   "source": [
    "df.isnull().sum()"
   ]
  },
  {
   "cell_type": "code",
   "execution_count": 9,
   "id": "f822ba78",
   "metadata": {},
   "outputs": [],
   "source": [
    "cat= []\n",
    "num= []"
   ]
  },
  {
   "cell_type": "code",
   "execution_count": 10,
   "id": "c9e50206",
   "metadata": {},
   "outputs": [],
   "source": [
    "for i in df.columns:\n",
    "    if df[i].dtype== 'object':\n",
    "        cat.append(i)\n",
    "    else:\n",
    "        num.append(i)"
   ]
  },
  {
   "cell_type": "code",
   "execution_count": 11,
   "id": "0bdd7318",
   "metadata": {},
   "outputs": [
    {
     "data": {
      "text/plain": [
       "['3D_available', 'Genre']"
      ]
     },
     "execution_count": 11,
     "metadata": {},
     "output_type": "execute_result"
    }
   ],
   "source": [
    "cat"
   ]
  },
  {
   "cell_type": "code",
   "execution_count": 12,
   "id": "a9efdee7",
   "metadata": {},
   "outputs": [
    {
     "data": {
      "text/plain": [
       "['Marketing expense',\n",
       " 'Production expense',\n",
       " 'Multiplex coverage',\n",
       " 'Budget',\n",
       " 'Movie_length',\n",
       " 'Lead_ Actor_Rating',\n",
       " 'Lead_Actress_rating',\n",
       " 'Director_rating',\n",
       " 'Producer_rating',\n",
       " 'Critic_rating',\n",
       " 'Trailer_views',\n",
       " 'Time_taken',\n",
       " 'Twitter_hastags',\n",
       " 'Avg_age_actors',\n",
       " 'Num_multiplex',\n",
       " 'Collection']"
      ]
     },
     "execution_count": 12,
     "metadata": {},
     "output_type": "execute_result"
    }
   ],
   "source": [
    "num"
   ]
  },
  {
   "cell_type": "code",
   "execution_count": 13,
   "id": "a095c7d0",
   "metadata": {},
   "outputs": [
    {
     "name": "stdout",
     "output_type": "stream",
     "text": [
      "percentage of outliers in Collection 0.0\n"
     ]
    }
   ],
   "source": [
    "q1= df['Marketing expense'].quantile(0.25)\n",
    "q3= df['Marketing expense'].quantile(0.75)\n",
    "iqr= q3-q1\n",
    "lf= q1- 1.5*iqr\n",
    "uf= q3+ 1.5*iqr\n",
    "outliers= df[(df['Marketing expense']<lf) & (df['Marketing expense']>uf)]\n",
    "print(\"percentage of outliers in\", i ,outliers.shape[0]*100/df.shape[0])"
   ]
  },
  {
   "cell_type": "code",
   "execution_count": 14,
   "id": "44cdd55a",
   "metadata": {},
   "outputs": [],
   "source": [
    "def outlier_detection_treatment(col):\n",
    "    q1= df[col].quantile(0.25)\n",
    "    q3= df[col].quantile(0.75)\n",
    "    iqr= q3-q1\n",
    "    lf= q1- 1.5*iqr\n",
    "    uf= q3+ 1.5*iqr\n",
    "    outliers= df[(df[col]<lf) | (df[col]>uf)]\n",
    "    print(\"Percentage of outliers in\", col ,outliers.shape[0]*100/df.shape[0])\n",
    "    fig, ax= plt.subplots(1,2, figsize=(6,4))\n",
    "    ax[0].boxplot(df[col])\n",
    "    ax[1].hist(df[col])\n",
    "    plt.suptitle(col)\n",
    "    plt.show()\n",
    "    df.loc[(df[col]<lf) | (df[col]>uf), col]= df[col].median()\n",
    "    \n"
   ]
  },
  {
   "cell_type": "code",
   "execution_count": 15,
   "id": "548ae9b9",
   "metadata": {},
   "outputs": [
    {
     "name": "stdout",
     "output_type": "stream",
     "text": [
      "Percentage of outliers in Marketing expense 13.043478260869565\n"
     ]
    },
    {
     "data": {
      "image/png": "[encoded data removed]",
      "text/plain": [
       "<Figure size 600x400 with 2 Axes>"
      ]
     },
     "metadata": {},
     "output_type": "display_data"
    },
    {
     "name": "stdout",
     "output_type": "stream",
     "text": [
      "None\n",
      "+++====+++\n",
      "Percentage of outliers in Production expense 0.0\n"
     ]
    },
    {
     "data": {
      "image/png": "[encoded data removed]",
      "text/plain": [
       "<Figure size 600x400 with 2 Axes>"
      ]
     },
     "metadata": {},
     "output_type": "display_data"
    },
    {
     "name": "stdout",
     "output_type": "stream",
     "text": [
      "None\n",
      "+++====+++\n",
      "Percentage of outliers in Multiplex coverage 0.0\n"
     ]
    },
    {
     "data": {
      "image/png": "[encoded data removed]",
      "text/plain": [
       "<Figure size 600x400 with 2 Axes>"
      ]
     },
     "metadata": {},
     "output_type": "display_data"
    },
    {
     "name": "stdout",
     "output_type": "stream",
     "text": [
      "None\n",
      "+++====+++\n",
      "Percentage of outliers in Budget 5.928853754940712\n"
     ]
    },
    {
     "data": {
      "image/png": "[encoded data removed]",
      "text/plain": [
       "<Figure size 600x400 with 2 Axes>"
      ]
     },
     "metadata": {},
     "output_type": "display_data"
    },
    {
     "name": "stdout",
     "output_type": "stream",
     "text": [
      "None\n",
      "+++====+++\n",
      "Percentage of outliers in Movie_length 0.0\n"
     ]
    },
    {
     "data": {
      "image/png": "[encoded data removed]",
      "text/plain": [
       "<Figure size 600x400 with 2 Axes>"
      ]
     },
     "metadata": {},
     "output_type": "display_data"
    },
    {
     "name": "stdout",
     "output_type": "stream",
     "text": [
      "None\n",
      "+++====+++\n",
      "Percentage of outliers in Lead_ Actor_Rating 0.9881422924901185\n"
     ]
    },
    {
     "data": {
      "image/png": "[encoded data removed]",
      "text/plain": [
       "<Figure size 600x400 with 2 Axes>"
      ]
     },
     "metadata": {},
     "output_type": "display_data"
    },
    {
     "name": "stdout",
     "output_type": "stream",
     "text": [
      "None\n",
      "+++====+++\n",
      "Percentage of outliers in Lead_Actress_rating 0.9881422924901185\n"
     ]
    },
    {
     "data": {
      "image/png": "[encoded data removed]",
      "text/plain": [
       "<Figure size 600x400 with 2 Axes>"
      ]
     },
     "metadata": {},
     "output_type": "display_data"
    },
    {
     "name": "stdout",
     "output_type": "stream",
     "text": [
      "None\n",
      "+++====+++\n",
      "Percentage of outliers in Director_rating 0.9881422924901185\n"
     ]
    },
    {
     "data": {
      "image/png": "[encoded data removed]",
      "text/plain": [
       "<Figure size 600x400 with 2 Axes>"
      ]
     },
     "metadata": {},
     "output_type": "display_data"
    },
    {
     "name": "stdout",
     "output_type": "stream",
     "text": [
      "None\n",
      "+++====+++\n",
      "Percentage of outliers in Producer_rating 0.9881422924901185\n"
     ]
    },
    {
     "data": {
      "image/png": "[encoded data removed]",
      "text/plain": [
       "<Figure size 600x400 with 2 Axes>"
      ]
     },
     "metadata": {},
     "output_type": "display_data"
    },
    {
     "name": "stdout",
     "output_type": "stream",
     "text": [
      "None\n",
      "+++====+++\n",
      "Percentage of outliers in Critic_rating 0.0\n"
     ]
    },
    {
     "data": {
      "image/png": "[encoded data removed]",
      "text/plain": [
       "<Figure size 600x400 with 2 Axes>"
      ]
     },
     "metadata": {},
     "output_type": "display_data"
    },
    {
     "name": "stdout",
     "output_type": "stream",
     "text": [
      "None\n",
      "+++====+++\n",
      "Percentage of outliers in Trailer_views 1.976284584980237\n"
     ]
    },
    {
     "data": {
      "image/png": "[encoded data removed]",
      "text/plain": [
       "<Figure size 600x400 with 2 Axes>"
      ]
     },
     "metadata": {},
     "output_type": "display_data"
    },
    {
     "name": "stdout",
     "output_type": "stream",
     "text": [
      "None\n",
      "+++====+++\n",
      "Percentage of outliers in Time_taken 0.3952569169960474\n"
     ]
    },
    {
     "data": {
      "image/png": "[encoded data removed]",
      "text/plain": [
       "<Figure size 600x400 with 2 Axes>"
      ]
     },
     "metadata": {},
     "output_type": "display_data"
    },
    {
     "name": "stdout",
     "output_type": "stream",
     "text": [
      "None\n",
      "+++====+++\n",
      "Percentage of outliers in Twitter_hastags 0.3952569169960474\n"
     ]
    },
    {
     "data": {
      "image/png": "[encoded data removed]",
      "text/plain": [
       "<Figure size 600x400 with 2 Axes>"
      ]
     },
     "metadata": {},
     "output_type": "display_data"
    },
    {
     "name": "stdout",
     "output_type": "stream",
     "text": [
      "None\n",
      "+++====+++\n",
      "Percentage of outliers in Avg_age_actors 0.0\n"
     ]
    },
    {
     "data": {
      "image/png": "[encoded data removed]",
      "text/plain": [
       "<Figure size 600x400 with 2 Axes>"
      ]
     },
     "metadata": {},
     "output_type": "display_data"
    },
    {
     "name": "stdout",
     "output_type": "stream",
     "text": [
      "None\n",
      "+++====+++\n",
      "Percentage of outliers in Num_multiplex 0.7905138339920948\n"
     ]
    },
    {
     "data": {
      "image/png": "[encoded data removed]",
      "text/plain": [
       "<Figure size 600x400 with 2 Axes>"
      ]
     },
     "metadata": {},
     "output_type": "display_data"
    },
    {
     "name": "stdout",
     "output_type": "stream",
     "text": [
      "None\n",
      "+++====+++\n",
      "Percentage of outliers in Collection 7.707509881422925\n"
     ]
    },
    {
     "name": "stderr",
     "output_type": "stream",
     "text": [
      "C:\\Users\\komal\\AppData\\Local\\Temp\\ipykernel_14808\\417328301.py:14: FutureWarning: Setting an item of incompatible dtype is deprecated and will raise in a future error of pandas. Value '535.5' has dtype incompatible with int64, please explicitly cast to a compatible dtype first.\n",
      "  df.loc[(df[col]<lf) | (df[col]>uf), col]= df[col].median()\n"
     ]
    },
    {
     "data": {
      "image/png": "[encoded data removed]",
      "text/plain": [
       "<Figure size 600x400 with 2 Axes>"
      ]
     },
     "metadata": {},
     "output_type": "display_data"
    },
    {
     "name": "stdout",
     "output_type": "stream",
     "text": [
      "None\n",
      "+++====+++\n"
     ]
    }
   ],
   "source": [
    "for col in num:\n",
    "    print(outlier_detection_treatment(col))\n",
    "    print(\"+++====+++\")\n"
   ]
  },
  {
   "cell_type": "code",
   "execution_count": 16,
   "id": "c45fa7ce",
   "metadata": {},
   "outputs": [
    {
     "data": {
      "text/plain": [
       "['3D_available', 'Genre']"
      ]
     },
     "execution_count": 16,
     "metadata": {},
     "output_type": "execute_result"
    }
   ],
   "source": [
    "cat"
   ]
  },
  {
   "cell_type": "code",
   "execution_count": 17,
   "id": "dc43556c",
   "metadata": {},
   "outputs": [],
   "source": [
    "import seaborn as sns\n",
    "\n",
    "def cat_analysis(col):\n",
    "    df[col].value_counts()\n",
    "    sns.countplot(x=df[col])\n",
    "    plt.show()"
   ]
  },
  {
   "cell_type": "code",
   "execution_count": 18,
   "id": "746bb9d2",
   "metadata": {},
   "outputs": [
    {
     "data": {
      "image/png": "[encoded data removed]",
      "text/plain": [
       "<Figure size 640x480 with 1 Axes>"
      ]
     },
     "metadata": {},
     "output_type": "display_data"
    },
    {
     "name": "stdout",
     "output_type": "stream",
     "text": [
      "None\n"
     ]
    },
    {
     "data": {
      "image/png": "[encoded data removed]",
      "text/plain": [
       "<Figure size 640x480 with 1 Axes>"
      ]
     },
     "metadata": {},
     "output_type": "display_data"
    },
    {
     "name": "stdout",
     "output_type": "stream",
     "text": [
      "None\n"
     ]
    }
   ],
   "source": [
    "for i in cat:\n",
    "    print(cat_analysis(i))"
   ]
  },
  {
   "cell_type": "code",
   "execution_count": 19,
   "id": "55e4b2d3",
   "metadata": {},
   "outputs": [],
   "source": [
    "from sklearn.preprocessing import LabelEncoder"
   ]
  },
  {
   "cell_type": "code",
   "execution_count": 20,
   "id": "6c643023",
   "metadata": {},
   "outputs": [],
   "source": [
    "le= LabelEncoder()\n",
    "df['3D_available']= le.fit_transform(df['3D_available'])"
   ]
  },
  {
   "cell_type": "code",
   "execution_count": 21,
   "id": "98006701",
   "metadata": {},
   "outputs": [
    {
     "data": {
      "text/html": [
       "<div>\n",
       "<style scoped>\n",
       "    .dataframe tbody tr th:only-of-type {\n",
       "        vertical-align: middle;\n",
       "    }\n",
       "\n",
       "    .dataframe tbody tr th {\n",
       "        vertical-align: top;\n",
       "    }\n",
       "\n",
       "    .dataframe thead th {\n",
       "        text-align: right;\n",
       "    }\n",
       "</style>\n",
       "<table border=\"1\" class=\"dataframe\">\n",
       "  <thead>\n",
       "    <tr style=\"text-align: right;\">\n",
       "      <th></th>\n",
       "      <th>Marketing expense</th>\n",
       "      <th>Production expense</th>\n",
       "      <th>Multiplex coverage</th>\n",
       "      <th>Budget</th>\n",
       "      <th>Movie_length</th>\n",
       "      <th>Lead_ Actor_Rating</th>\n",
       "      <th>Lead_Actress_rating</th>\n",
       "      <th>Director_rating</th>\n",
       "      <th>Producer_rating</th>\n",
       "      <th>Critic_rating</th>\n",
       "      <th>Trailer_views</th>\n",
       "      <th>3D_available</th>\n",
       "      <th>Time_taken</th>\n",
       "      <th>Twitter_hastags</th>\n",
       "      <th>Genre</th>\n",
       "      <th>Avg_age_actors</th>\n",
       "      <th>Num_multiplex</th>\n",
       "      <th>Collection</th>\n",
       "    </tr>\n",
       "  </thead>\n",
       "  <tbody>\n",
       "    <tr>\n",
       "      <th>0</th>\n",
       "      <td>20.1264</td>\n",
       "      <td>59.62</td>\n",
       "      <td>0.462</td>\n",
       "      <td>36524.125</td>\n",
       "      <td>138.7</td>\n",
       "      <td>7.825</td>\n",
       "      <td>8.095</td>\n",
       "      <td>7.910</td>\n",
       "      <td>7.995</td>\n",
       "      <td>7.94</td>\n",
       "      <td>527367</td>\n",
       "      <td>1</td>\n",
       "      <td>109.60</td>\n",
       "      <td>223.840</td>\n",
       "      <td>Thriller</td>\n",
       "      <td>23</td>\n",
       "      <td>494.0</td>\n",
       "      <td>48000</td>\n",
       "    </tr>\n",
       "    <tr>\n",
       "      <th>1</th>\n",
       "      <td>20.5462</td>\n",
       "      <td>69.14</td>\n",
       "      <td>0.531</td>\n",
       "      <td>35668.655</td>\n",
       "      <td>152.4</td>\n",
       "      <td>7.505</td>\n",
       "      <td>7.650</td>\n",
       "      <td>7.440</td>\n",
       "      <td>7.470</td>\n",
       "      <td>7.44</td>\n",
       "      <td>494055</td>\n",
       "      <td>0</td>\n",
       "      <td>146.64</td>\n",
       "      <td>243.456</td>\n",
       "      <td>Drama</td>\n",
       "      <td>42</td>\n",
       "      <td>462.0</td>\n",
       "      <td>43200</td>\n",
       "    </tr>\n",
       "    <tr>\n",
       "      <th>2</th>\n",
       "      <td>20.5458</td>\n",
       "      <td>69.14</td>\n",
       "      <td>0.531</td>\n",
       "      <td>39912.675</td>\n",
       "      <td>134.6</td>\n",
       "      <td>7.485</td>\n",
       "      <td>7.570</td>\n",
       "      <td>7.495</td>\n",
       "      <td>7.515</td>\n",
       "      <td>7.44</td>\n",
       "      <td>547051</td>\n",
       "      <td>0</td>\n",
       "      <td>147.88</td>\n",
       "      <td>254.400</td>\n",
       "      <td>Comedy</td>\n",
       "      <td>38</td>\n",
       "      <td>458.0</td>\n",
       "      <td>69400</td>\n",
       "    </tr>\n",
       "    <tr>\n",
       "      <th>3</th>\n",
       "      <td>20.6474</td>\n",
       "      <td>59.36</td>\n",
       "      <td>0.542</td>\n",
       "      <td>38873.890</td>\n",
       "      <td>119.3</td>\n",
       "      <td>6.895</td>\n",
       "      <td>7.035</td>\n",
       "      <td>6.920</td>\n",
       "      <td>7.020</td>\n",
       "      <td>8.26</td>\n",
       "      <td>516279</td>\n",
       "      <td>1</td>\n",
       "      <td>185.36</td>\n",
       "      <td>225.344</td>\n",
       "      <td>Drama</td>\n",
       "      <td>45</td>\n",
       "      <td>472.0</td>\n",
       "      <td>66800</td>\n",
       "    </tr>\n",
       "    <tr>\n",
       "      <th>4</th>\n",
       "      <td>21.3810</td>\n",
       "      <td>59.36</td>\n",
       "      <td>0.542</td>\n",
       "      <td>39701.585</td>\n",
       "      <td>127.7</td>\n",
       "      <td>6.920</td>\n",
       "      <td>7.070</td>\n",
       "      <td>6.815</td>\n",
       "      <td>7.070</td>\n",
       "      <td>8.26</td>\n",
       "      <td>531448</td>\n",
       "      <td>0</td>\n",
       "      <td>176.48</td>\n",
       "      <td>225.792</td>\n",
       "      <td>Drama</td>\n",
       "      <td>55</td>\n",
       "      <td>395.0</td>\n",
       "      <td>72400</td>\n",
       "    </tr>\n",
       "    <tr>\n",
       "      <th>...</th>\n",
       "      <td>...</td>\n",
       "      <td>...</td>\n",
       "      <td>...</td>\n",
       "      <td>...</td>\n",
       "      <td>...</td>\n",
       "      <td>...</td>\n",
       "      <td>...</td>\n",
       "      <td>...</td>\n",
       "      <td>...</td>\n",
       "      <td>...</td>\n",
       "      <td>...</td>\n",
       "      <td>...</td>\n",
       "      <td>...</td>\n",
       "      <td>...</td>\n",
       "      <td>...</td>\n",
       "      <td>...</td>\n",
       "      <td>...</td>\n",
       "      <td>...</td>\n",
       "    </tr>\n",
       "    <tr>\n",
       "      <th>501</th>\n",
       "      <td>21.2526</td>\n",
       "      <td>78.86</td>\n",
       "      <td>0.427</td>\n",
       "      <td>36624.115</td>\n",
       "      <td>142.6</td>\n",
       "      <td>8.680</td>\n",
       "      <td>8.775</td>\n",
       "      <td>8.620</td>\n",
       "      <td>8.970</td>\n",
       "      <td>6.80</td>\n",
       "      <td>492480</td>\n",
       "      <td>0</td>\n",
       "      <td>186.96</td>\n",
       "      <td>243.584</td>\n",
       "      <td>Action</td>\n",
       "      <td>27</td>\n",
       "      <td>561.0</td>\n",
       "      <td>44800</td>\n",
       "    </tr>\n",
       "    <tr>\n",
       "      <th>502</th>\n",
       "      <td>20.9054</td>\n",
       "      <td>78.86</td>\n",
       "      <td>0.427</td>\n",
       "      <td>33996.600</td>\n",
       "      <td>150.2</td>\n",
       "      <td>8.780</td>\n",
       "      <td>8.945</td>\n",
       "      <td>8.770</td>\n",
       "      <td>8.930</td>\n",
       "      <td>7.80</td>\n",
       "      <td>482875</td>\n",
       "      <td>1</td>\n",
       "      <td>132.24</td>\n",
       "      <td>263.296</td>\n",
       "      <td>Action</td>\n",
       "      <td>20</td>\n",
       "      <td>600.0</td>\n",
       "      <td>41200</td>\n",
       "    </tr>\n",
       "    <tr>\n",
       "      <th>503</th>\n",
       "      <td>21.2152</td>\n",
       "      <td>78.86</td>\n",
       "      <td>0.427</td>\n",
       "      <td>38751.680</td>\n",
       "      <td>164.5</td>\n",
       "      <td>8.830</td>\n",
       "      <td>8.970</td>\n",
       "      <td>8.855</td>\n",
       "      <td>9.010</td>\n",
       "      <td>7.80</td>\n",
       "      <td>532239</td>\n",
       "      <td>0</td>\n",
       "      <td>109.56</td>\n",
       "      <td>243.824</td>\n",
       "      <td>Comedy</td>\n",
       "      <td>31</td>\n",
       "      <td>576.0</td>\n",
       "      <td>47800</td>\n",
       "    </tr>\n",
       "    <tr>\n",
       "      <th>504</th>\n",
       "      <td>22.1918</td>\n",
       "      <td>78.86</td>\n",
       "      <td>0.427</td>\n",
       "      <td>37740.670</td>\n",
       "      <td>162.8</td>\n",
       "      <td>8.730</td>\n",
       "      <td>8.845</td>\n",
       "      <td>8.800</td>\n",
       "      <td>8.845</td>\n",
       "      <td>6.80</td>\n",
       "      <td>496077</td>\n",
       "      <td>1</td>\n",
       "      <td>158.80</td>\n",
       "      <td>303.520</td>\n",
       "      <td>Comedy</td>\n",
       "      <td>47</td>\n",
       "      <td>607.0</td>\n",
       "      <td>44000</td>\n",
       "    </tr>\n",
       "    <tr>\n",
       "      <th>505</th>\n",
       "      <td>20.9482</td>\n",
       "      <td>78.86</td>\n",
       "      <td>0.427</td>\n",
       "      <td>33496.650</td>\n",
       "      <td>154.3</td>\n",
       "      <td>8.640</td>\n",
       "      <td>8.880</td>\n",
       "      <td>8.680</td>\n",
       "      <td>8.790</td>\n",
       "      <td>6.80</td>\n",
       "      <td>518438</td>\n",
       "      <td>1</td>\n",
       "      <td>205.60</td>\n",
       "      <td>203.040</td>\n",
       "      <td>Comedy</td>\n",
       "      <td>45</td>\n",
       "      <td>604.0</td>\n",
       "      <td>38000</td>\n",
       "    </tr>\n",
       "  </tbody>\n",
       "</table>\n",
       "<p>506 rows × 18 columns</p>\n",
       "</div>"
      ],
      "text/plain": [
       "     Marketing expense  Production expense  Multiplex coverage     Budget  \\\n",
       "0              20.1264               59.62               0.462  36524.125   \n",
       "1              20.5462               69.14               0.531  35668.655   \n",
       "2              20.5458               69.14               0.531  39912.675   \n",
       "3              20.6474               59.36               0.542  38873.890   \n",
       "4              21.3810               59.36               0.542  39701.585   \n",
       "..                 ...                 ...                 ...        ...   \n",
       "501            21.2526               78.86               0.427  36624.115   \n",
       "502            20.9054               78.86               0.427  33996.600   \n",
       "503            21.2152               78.86               0.427  38751.680   \n",
       "504            22.1918               78.86               0.427  37740.670   \n",
       "505            20.9482               78.86               0.427  33496.650   \n",
       "\n",
       "     Movie_length  Lead_ Actor_Rating  Lead_Actress_rating  Director_rating  \\\n",
       "0           138.7               7.825                8.095            7.910   \n",
       "1           152.4               7.505                7.650            7.440   \n",
       "2           134.6               7.485                7.570            7.495   \n",
       "3           119.3               6.895                7.035            6.920   \n",
       "4           127.7               6.920                7.070            6.815   \n",
       "..            ...                 ...                  ...              ...   \n",
       "501         142.6               8.680                8.775            8.620   \n",
       "502         150.2               8.780                8.945            8.770   \n",
       "503         164.5               8.830                8.970            8.855   \n",
       "504         162.8               8.730                8.845            8.800   \n",
       "505         154.3               8.640                8.880            8.680   \n",
       "\n",
       "     Producer_rating  Critic_rating  Trailer_views  3D_available  Time_taken  \\\n",
       "0              7.995           7.94         527367             1      109.60   \n",
       "1              7.470           7.44         494055             0      146.64   \n",
       "2              7.515           7.44         547051             0      147.88   \n",
       "3              7.020           8.26         516279             1      185.36   \n",
       "4              7.070           8.26         531448             0      176.48   \n",
       "..               ...            ...            ...           ...         ...   \n",
       "501            8.970           6.80         492480             0      186.96   \n",
       "502            8.930           7.80         482875             1      132.24   \n",
       "503            9.010           7.80         532239             0      109.56   \n",
       "504            8.845           6.80         496077             1      158.80   \n",
       "505            8.790           6.80         518438             1      205.60   \n",
       "\n",
       "     Twitter_hastags     Genre  Avg_age_actors  Num_multiplex  Collection  \n",
       "0            223.840  Thriller              23          494.0       48000  \n",
       "1            243.456     Drama              42          462.0       43200  \n",
       "2            254.400    Comedy              38          458.0       69400  \n",
       "3            225.344     Drama              45          472.0       66800  \n",
       "4            225.792     Drama              55          395.0       72400  \n",
       "..               ...       ...             ...            ...         ...  \n",
       "501          243.584    Action              27          561.0       44800  \n",
       "502          263.296    Action              20          600.0       41200  \n",
       "503          243.824    Comedy              31          576.0       47800  \n",
       "504          303.520    Comedy              47          607.0       44000  \n",
       "505          203.040    Comedy              45          604.0       38000  \n",
       "\n",
       "[506 rows x 18 columns]"
      ]
     },
     "execution_count": 21,
     "metadata": {},
     "output_type": "execute_result"
    }
   ],
   "source": [
    "df"
   ]
  },
  {
   "cell_type": "code",
   "execution_count": 22,
   "id": "1d324649",
   "metadata": {},
   "outputs": [],
   "source": [
    "from sklearn.preprocessing import OneHotEncoder"
   ]
  },
  {
   "cell_type": "code",
   "execution_count": 23,
   "id": "af527d8a",
   "metadata": {},
   "outputs": [],
   "source": [
    "ohe= OneHotEncoder(sparse_output= False)\n",
    "np_genre= ohe.fit_transform(df[[\"Genre\"]])\n",
    "df_genre= pd.DataFrame(np_genre,columns= ohe.categories_ )\n",
    "df_genre.drop('Action', axis= 1, inplace=True)"
   ]
  },
  {
   "cell_type": "code",
   "execution_count": 24,
   "id": "460c3875",
   "metadata": {},
   "outputs": [
    {
     "data": {
      "text/html": [
       "<div>\n",
       "<style scoped>\n",
       "    .dataframe tbody tr th:only-of-type {\n",
       "        vertical-align: middle;\n",
       "    }\n",
       "\n",
       "    .dataframe tbody tr th {\n",
       "        vertical-align: top;\n",
       "    }\n",
       "\n",
       "    .dataframe thead tr th {\n",
       "        text-align: left;\n",
       "    }\n",
       "</style>\n",
       "<table border=\"1\" class=\"dataframe\">\n",
       "  <thead>\n",
       "    <tr>\n",
       "      <th></th>\n",
       "      <th>Comedy</th>\n",
       "      <th>Drama</th>\n",
       "      <th>Thriller</th>\n",
       "    </tr>\n",
       "  </thead>\n",
       "  <tbody>\n",
       "    <tr>\n",
       "      <th>0</th>\n",
       "      <td>0.0</td>\n",
       "      <td>0.0</td>\n",
       "      <td>1.0</td>\n",
       "    </tr>\n",
       "    <tr>\n",
       "      <th>1</th>\n",
       "      <td>0.0</td>\n",
       "      <td>1.0</td>\n",
       "      <td>0.0</td>\n",
       "    </tr>\n",
       "    <tr>\n",
       "      <th>2</th>\n",
       "      <td>1.0</td>\n",
       "      <td>0.0</td>\n",
       "      <td>0.0</td>\n",
       "    </tr>\n",
       "    <tr>\n",
       "      <th>3</th>\n",
       "      <td>0.0</td>\n",
       "      <td>1.0</td>\n",
       "      <td>0.0</td>\n",
       "    </tr>\n",
       "    <tr>\n",
       "      <th>4</th>\n",
       "      <td>0.0</td>\n",
       "      <td>1.0</td>\n",
       "      <td>0.0</td>\n",
       "    </tr>\n",
       "    <tr>\n",
       "      <th>...</th>\n",
       "      <td>...</td>\n",
       "      <td>...</td>\n",
       "      <td>...</td>\n",
       "    </tr>\n",
       "    <tr>\n",
       "      <th>501</th>\n",
       "      <td>0.0</td>\n",
       "      <td>0.0</td>\n",
       "      <td>0.0</td>\n",
       "    </tr>\n",
       "    <tr>\n",
       "      <th>502</th>\n",
       "      <td>0.0</td>\n",
       "      <td>0.0</td>\n",
       "      <td>0.0</td>\n",
       "    </tr>\n",
       "    <tr>\n",
       "      <th>503</th>\n",
       "      <td>1.0</td>\n",
       "      <td>0.0</td>\n",
       "      <td>0.0</td>\n",
       "    </tr>\n",
       "    <tr>\n",
       "      <th>504</th>\n",
       "      <td>1.0</td>\n",
       "      <td>0.0</td>\n",
       "      <td>0.0</td>\n",
       "    </tr>\n",
       "    <tr>\n",
       "      <th>505</th>\n",
       "      <td>1.0</td>\n",
       "      <td>0.0</td>\n",
       "      <td>0.0</td>\n",
       "    </tr>\n",
       "  </tbody>\n",
       "</table>\n",
       "<p>506 rows × 3 columns</p>\n",
       "</div>"
      ],
      "text/plain": [
       "    Comedy Drama Thriller\n",
       "0      0.0   0.0      1.0\n",
       "1      0.0   1.0      0.0\n",
       "2      1.0   0.0      0.0\n",
       "3      0.0   1.0      0.0\n",
       "4      0.0   1.0      0.0\n",
       "..     ...   ...      ...\n",
       "501    0.0   0.0      0.0\n",
       "502    0.0   0.0      0.0\n",
       "503    1.0   0.0      0.0\n",
       "504    1.0   0.0      0.0\n",
       "505    1.0   0.0      0.0\n",
       "\n",
       "[506 rows x 3 columns]"
      ]
     },
     "execution_count": 24,
     "metadata": {},
     "output_type": "execute_result"
    }
   ],
   "source": [
    "df_genre"
   ]
  },
  {
   "cell_type": "code",
   "execution_count": 25,
   "id": "920f61d6",
   "metadata": {},
   "outputs": [
    {
     "name": "stdout",
     "output_type": "stream",
     "text": [
      "<class 'pandas.core.frame.DataFrame'>\n",
      "RangeIndex: 506 entries, 0 to 505\n",
      "Data columns (total 19 columns):\n",
      " #   Column               Non-Null Count  Dtype  \n",
      "---  ------               --------------  -----  \n",
      " 0   Marketing expense    506 non-null    float64\n",
      " 1   Production expense   506 non-null    float64\n",
      " 2   Multiplex coverage   506 non-null    float64\n",
      " 3   Budget               506 non-null    float64\n",
      " 4   Movie_length         506 non-null    float64\n",
      " 5   Lead_ Actor_Rating   506 non-null    float64\n",
      " 6   Lead_Actress_rating  506 non-null    float64\n",
      " 7   Director_rating      506 non-null    float64\n",
      " 8   Producer_rating      506 non-null    float64\n",
      " 9   Critic_rating        506 non-null    float64\n",
      " 10  Trailer_views        506 non-null    int64  \n",
      " 11  3D_available         506 non-null    int32  \n",
      " 12  Time_taken           506 non-null    float64\n",
      " 13  Twitter_hastags      506 non-null    float64\n",
      " 14  Avg_age_actors       506 non-null    int64  \n",
      " 15  Num_multiplex        506 non-null    float64\n",
      " 16  (Comedy,)            506 non-null    float64\n",
      " 17  (Drama,)             506 non-null    float64\n",
      " 18  (Thriller,)          506 non-null    float64\n",
      "dtypes: float64(16), int32(1), int64(2)\n",
      "memory usage: 73.3 KB\n"
     ]
    }
   ],
   "source": [
    "X= df.drop(['Collection', 'Genre'], axis= 1)\n",
    "X= pd.concat([X, df_genre], axis= 1)\n",
    "X.info()\n"
   ]
  },
  {
   "cell_type": "code",
   "execution_count": 26,
   "id": "03193721",
   "metadata": {},
   "outputs": [
    {
     "data": {
      "text/plain": [
       "Index([  'Marketing expense',  'Production expense',  'Multiplex coverage',\n",
       "                    'Budget',        'Movie_length',  'Lead_ Actor_Rating',\n",
       "       'Lead_Actress_rating',     'Director_rating',     'Producer_rating',\n",
       "             'Critic_rating',       'Trailer_views',        '3D_available',\n",
       "                'Time_taken',     'Twitter_hastags',      'Avg_age_actors',\n",
       "             'Num_multiplex',           ('Comedy',),            ('Drama',),\n",
       "               ('Thriller',)],\n",
       "      dtype='object')"
      ]
     },
     "execution_count": 26,
     "metadata": {},
     "output_type": "execute_result"
    }
   ],
   "source": [
    "X.columns"
   ]
  },
  {
   "cell_type": "code",
   "execution_count": 27,
   "id": "00c89339",
   "metadata": {},
   "outputs": [
    {
     "name": "stdout",
     "output_type": "stream",
     "text": [
      "Minimum value of  Marketing expense 20.1264 Maximum value of  Marketing expense 199.6592\n",
      "Minimum value of  Production expense 55.92 Maximum value of  Production expense 110.48\n",
      "Minimum value of  Multiplex coverage 0.129 Maximum value of  Multiplex coverage 0.615\n",
      "Minimum value of  Budget 27108.4 Maximum value of  Budget 42723.505\n",
      "Minimum value of  Movie_length 76.4 Maximum value of  Movie_length 173.5\n",
      "Minimum value of  Lead_ Actor_Rating 5.28 Maximum value of  Lead_ Actor_Rating 9.435\n",
      "Minimum value of  Lead_Actress_rating 5.445 Maximum value of  Lead_Actress_rating 9.54\n",
      "Minimum value of  Director_rating 5.26 Maximum value of  Director_rating 9.425\n",
      "Minimum value of  Producer_rating 5.42 Maximum value of  Producer_rating 9.635\n",
      "Minimum value of  Critic_rating 6.6 Maximum value of  Critic_rating 9.4\n",
      "Minimum value of  Trailer_views 276179 Maximum value of  Trailer_views 567784\n",
      "Minimum value of  3D_available 0 Maximum value of  3D_available 1\n",
      "Minimum value of  Time_taken 105.36 Maximum value of  Time_taken 217.52\n",
      "Minimum value of  Twitter_hastags 201.152 Maximum value of  Twitter_hastags 308.0\n",
      "Minimum value of  Avg_age_actors 3 Maximum value of  Avg_age_actors 60\n",
      "Minimum value of  Num_multiplex 333.0 Maximum value of  Num_multiplex 838.0\n",
      "Minimum value of  ('Comedy',) 0.0 Maximum value of  ('Comedy',) 1.0\n",
      "Minimum value of  ('Drama',) 0.0 Maximum value of  ('Drama',) 1.0\n",
      "Minimum value of  ('Thriller',) 0.0 Maximum value of  ('Thriller',) 1.0\n"
     ]
    }
   ],
   "source": [
    "for i in X.columns:\n",
    "    print(\"Minimum value of \",i, X[i].min(),\"Maximum value of \",i, X[i].max() )"
   ]
  },
  {
   "cell_type": "code",
   "execution_count": 28,
   "id": "29a58749",
   "metadata": {},
   "outputs": [],
   "source": [
    "y= df['Collection']"
   ]
  },
  {
   "cell_type": "code",
   "execution_count": 29,
   "id": "0d31bf5f",
   "metadata": {},
   "outputs": [],
   "source": [
    "X= X.values\n",
    "y= y.values"
   ]
  },
  {
   "cell_type": "code",
   "execution_count": 30,
   "id": "e6f71b7d",
   "metadata": {},
   "outputs": [],
   "source": [
    "from sklearn.model_selection import train_test_split"
   ]
  },
  {
   "cell_type": "code",
   "execution_count": 31,
   "id": "29bc20b7",
   "metadata": {},
   "outputs": [],
   "source": [
    "X_train, X_test, y_train, y_test= train_test_split(X,y, test_size= 0.3, random_state= 90)"
   ]
  },
  {
   "cell_type": "code",
   "execution_count": 32,
   "id": "4a348b4b",
   "metadata": {},
   "outputs": [
    {
     "data": {
      "text/html": [
       "<style>#sk-container-id-1 {color: black;background-color: white;}#sk-container-id-1 pre{padding: 0;}#sk-container-id-1 div.sk-toggleable {background-color: white;}#sk-container-id-1 label.sk-toggleable__label {cursor: pointer;display: block;width: 100%;margin-bottom: 0;padding: 0.3em;box-sizing: border-box;text-align: center;}#sk-container-id-1 label.sk-toggleable__label-arrow:before {content: \"▸\";float: left;margin-right: 0.25em;color: #696969;}#sk-container-id-1 label.sk-toggleable__label-arrow:hover:before {color: black;}#sk-container-id-1 div.sk-estimator:hover label.sk-toggleable__label-arrow:before {color: black;}#sk-container-id-1 div.sk-toggleable__content {max-height: 0;max-width: 0;overflow: hidden;text-align: left;background-color: #f0f8ff;}#sk-container-id-1 div.sk-toggleable__content pre {margin: 0.2em;color: black;border-radius: 0.25em;background-color: #f0f8ff;}#sk-container-id-1 input.sk-toggleable__control:checked~div.sk-toggleable__content {max-height: 200px;max-width: 100%;overflow: auto;}#sk-container-id-1 input.sk-toggleable__control:checked~label.sk-toggleable__label-arrow:before {content: \"▾\";}#sk-container-id-1 div.sk-estimator input.sk-toggleable__control:checked~label.sk-toggleable__label {background-color: #d4ebff;}#sk-container-id-1 div.sk-label input.sk-toggleable__control:checked~label.sk-toggleable__label {background-color: #d4ebff;}#sk-container-id-1 input.sk-hidden--visually {border: 0;clip: rect(1px 1px 1px 1px);clip: rect(1px, 1px, 1px, 1px);height: 1px;margin: -1px;overflow: hidden;padding: 0;position: absolute;width: 1px;}#sk-container-id-1 div.sk-estimator {font-family: monospace;background-color: #f0f8ff;border: 1px dotted black;border-radius: 0.25em;box-sizing: border-box;margin-bottom: 0.5em;}#sk-container-id-1 div.sk-estimator:hover {background-color: #d4ebff;}#sk-container-id-1 div.sk-parallel-item::after {content: \"\";width: 100%;border-bottom: 1px solid gray;flex-grow: 1;}#sk-container-id-1 div.sk-label:hover label.sk-toggleable__label {background-color: #d4ebff;}#sk-container-id-1 div.sk-serial::before {content: \"\";position: absolute;border-left: 1px solid gray;box-sizing: border-box;top: 0;bottom: 0;left: 50%;z-index: 0;}#sk-container-id-1 div.sk-serial {display: flex;flex-direction: column;align-items: center;background-color: white;padding-right: 0.2em;padding-left: 0.2em;position: relative;}#sk-container-id-1 div.sk-item {position: relative;z-index: 1;}#sk-container-id-1 div.sk-parallel {display: flex;align-items: stretch;justify-content: center;background-color: white;position: relative;}#sk-container-id-1 div.sk-item::before, #sk-container-id-1 div.sk-parallel-item::before {content: \"\";position: absolute;border-left: 1px solid gray;box-sizing: border-box;top: 0;bottom: 0;left: 50%;z-index: -1;}#sk-container-id-1 div.sk-parallel-item {display: flex;flex-direction: column;z-index: 1;position: relative;background-color: white;}#sk-container-id-1 div.sk-parallel-item:first-child::after {align-self: flex-end;width: 50%;}#sk-container-id-1 div.sk-parallel-item:last-child::after {align-self: flex-start;width: 50%;}#sk-container-id-1 div.sk-parallel-item:only-child::after {width: 0;}#sk-container-id-1 div.sk-dashed-wrapped {border: 1px dashed gray;margin: 0 0.4em 0.5em 0.4em;box-sizing: border-box;padding-bottom: 0.4em;background-color: white;}#sk-container-id-1 div.sk-label label {font-family: monospace;font-weight: bold;display: inline-block;line-height: 1.2em;}#sk-container-id-1 div.sk-label-container {text-align: center;}#sk-container-id-1 div.sk-container {/* jupyter's `normalize.less` sets `[hidden] { display: none; }` but bootstrap.min.css set `[hidden] { display: none !important; }` so we also need the `!important` here to be able to override the default hidden behavior on the sphinx rendered scikit-learn.org. See: https://github.com/scikit-learn/scikit-learn/issues/21755 */display: inline-block !important;position: relative;}#sk-container-id-1 div.sk-text-repr-fallback {display: none;}</style><div id=\"sk-container-id-1\" class=\"sk-top-container\"><div class=\"sk-text-repr-fallback\"><pre>LinearRegression()</pre><b>In a Jupyter environment, please rerun this cell to show the HTML representation or trust the notebook. <br />On GitHub, the HTML representation is unable to render, please try loading this page with nbviewer.org.</b></div><div class=\"sk-container\" hidden><div class=\"sk-item\"><div class=\"sk-estimator sk-toggleable\"><input class=\"sk-toggleable__control sk-hidden--visually\" id=\"sk-estimator-id-1\" type=\"checkbox\" checked><label for=\"sk-estimator-id-1\" class=\"sk-toggleable__label sk-toggleable__label-arrow\">LinearRegression</label><div class=\"sk-toggleable__content\"><pre>LinearRegression()</pre></div></div></div></div></div>"
      ],
      "text/plain": [
       "LinearRegression()"
      ]
     },
     "execution_count": 32,
     "metadata": {},
     "output_type": "execute_result"
    }
   ],
   "source": [
    "from sklearn.linear_model import LinearRegression\n",
    "lr= LinearRegression()\n",
    "lr.fit(X_train, y_train)"
   ]
  },
  {
   "cell_type": "code",
   "execution_count": 33,
   "id": "2ddac8aa",
   "metadata": {},
   "outputs": [],
   "source": [
    "y_pred= lr.predict(X_test)"
   ]
  },
  {
   "cell_type": "code",
   "execution_count": 34,
   "id": "a0f0d710",
   "metadata": {},
   "outputs": [
    {
     "data": {
      "text/plain": [
       "array([51752.97569092, 59663.38804653, 50856.67963066, 43159.33381025,\n",
       "       49011.97503898, 41898.68253977, 39179.98131732, 42190.17547593,\n",
       "       31058.80523818, 34990.28850134, 48461.02796008, 50405.0807182 ,\n",
       "       54442.82000247, 27742.83402494, 56547.48537042, 33147.36078051,\n",
       "       23989.12983027, 51026.12495317, 38775.74581883, 27008.01497046,\n",
       "       50280.84229827, 37651.94565171, 56473.23236761, 35617.50792364,\n",
       "       49233.21369886, 37269.19775677, 46670.45250872, 34155.52100997,\n",
       "       30935.32077888, 50164.78280367, 53806.29463244, 45977.89158618,\n",
       "       38633.96612947, 24145.93975801, 40895.32928629, 57629.41779252,\n",
       "       55560.78338557, 36163.38528565, 34536.06530532, 30625.61124776,\n",
       "       51734.29886472, 39961.82948993, 29308.86013764, 55924.42843391,\n",
       "       34150.9184646 , 49703.90754898, 37097.97106452, 26329.94013772,\n",
       "       35772.71304413, 36927.84465165, 49794.46206102, 31348.9634312 ,\n",
       "       44966.16255145, 43443.88175945, 31595.15205811, 29940.92832957,\n",
       "       40655.37668329, 41755.84743152, 49865.80262391, 50153.7262605 ,\n",
       "       35603.2504358 , 36674.06271695, 35584.69699213, 34793.63846563,\n",
       "       44614.94614349, 41967.23333225, 53114.81889111, 48587.16991382,\n",
       "       54319.54730635, 53205.98145402, 31614.86970507, 34798.50070242,\n",
       "       37347.82332447, 37276.53373721, 47875.00721938, 28074.4865426 ,\n",
       "       46605.46043595, 50566.77695649, 40679.03153842, 48696.19355666,\n",
       "       48265.97233108, 59097.01613106, 52198.55647656, 42544.22459758,\n",
       "       34265.92272398, 35977.70856962, 59560.44100187, 43132.91361459,\n",
       "       42441.6585559 , 32653.53979963, 46527.09946918, 45022.13095387,\n",
       "       27317.79025443, 42188.73153329, 48378.94495   , 30414.26748411,\n",
       "       34502.49314731, 41900.71755163, 29016.43323443, 51046.3535635 ,\n",
       "       18682.21857226, 25471.95030724, 32169.43785273, 22750.9173217 ,\n",
       "       27757.46265248, 48225.56891919, 47618.11807076, 61957.33400241,\n",
       "       49547.453122  , 50692.211235  , 40424.79999289, 24417.02709753,\n",
       "       51664.99212926, 42186.00385803, 43202.35714615, 47823.09079495,\n",
       "       34961.6901847 , 48086.78167187, 52545.72282364, 41324.08390307,\n",
       "       45237.06533032, 45285.1305932 , 23971.35355873, 59375.8411643 ,\n",
       "       55616.31946879, 60203.6169396 , 43275.55398597, 36795.86711387,\n",
       "       40700.99191188, 46662.21090236, 50726.53851866, 50067.80429268,\n",
       "       28057.12129946, 34939.64654282, 39095.41800901, 30476.01942181,\n",
       "       39811.9600101 , 41812.55675247, 55697.64283721, 36041.16498633,\n",
       "       38163.98392611, 36340.58316592, 57254.11917845, 49172.11019596,\n",
       "       15796.55232936, 39366.9999983 , 46605.10281848, 33869.54193395,\n",
       "       47780.05063801, 34096.69771569, 33984.41048681, 41386.65875593])"
      ]
     },
     "execution_count": 34,
     "metadata": {},
     "output_type": "execute_result"
    }
   ],
   "source": [
    "y_pred"
   ]
  },
  {
   "cell_type": "code",
   "execution_count": 35,
   "id": "00a79e58",
   "metadata": {},
   "outputs": [
    {
     "data": {
      "text/plain": [
       "array([48000, 43200, 69400, 66800, 72400, 57400, 45800, 44200, 33000,\n",
       "       37800, 30000, 37800, 43400, 40800, 36400, 39800, 46200, 35000,\n",
       "       40400, 36400, 27200, 39200, 30400, 29000, 31200, 27800, 33200,\n",
       "       29600, 36800, 42000, 25400, 29000, 26400, 26200, 27000, 37800,\n",
       "       40000, 42000, 48400, 61600, 69800, 53200, 50600, 49400, 42400,\n",
       "       38600, 40000, 33200, 28800, 38800, 39400, 41000, 50000, 46800,\n",
       "       37800, 70800, 49400, 63200, 46600, 39200, 37400, 32000, 44400,\n",
       "       50000, 66000, 47000, 38800, 44000, 34800, 41800, 48400, 43400,\n",
       "       45600, 46800, 48200, 42800, 40000, 41600, 42400, 40600, 56000,\n",
       "       47800, 49600, 45800, 47800, 53200, 45000, 44400, 47200, 57400,\n",
       "       45200, 44000, 45800, 50000, 41200, 56800, 42800, 42400, 42400,\n",
       "       66400, 55000, 53000, 37200, 38600, 40200, 39000, 39000, 40800,\n",
       "       39600, 38800, 43400, 45600, 37600, 37400, 37000, 36600, 42400,\n",
       "       38400, 40800, 38600, 44000, 40600, 41000, 34600, 37600, 42800,\n",
       "       31400, 32400, 36000, 28600, 38400, 39200, 46000, 36800, 31200,\n",
       "       36200, 34800, 34200, 26600, 35600, 28000, 28800, 26800, 31200,\n",
       "       23600, 27600, 31200, 29200, 35600, 30800, 43000, 39200, 30600,\n",
       "       38800, 34000, 31200, 26200, 42400, 48600, 46600, 54000, 42400,\n",
       "       42400, 42400, 45400, 50000, 42400, 47600, 47600, 44600, 34800,\n",
       "       38200, 46200, 47200, 45200, 58800, 46400, 49200, 59800, 42400,\n",
       "       42400, 72400, 42400, 65000, 52800, 59200, 42400, 64000, 59600,\n",
       "       69800, 66000, 61000, 72800, 62200, 58200, 42400, 66600, 60600,\n",
       "       69200, 69800, 65800, 48200, 42400, 42400, 42400, 45200, 48800,\n",
       "       45000, 48800, 40000, 43400, 38600, 44800, 56200, 47400, 50000,\n",
       "       46600, 57400, 43000, 46000, 53400, 43400, 55000, 60200, 42400,\n",
       "       42400, 42400, 63200, 42400, 63000, 48600, 63400, 42400, 42400,\n",
       "       58000, 48000, 50200, 63000, 47400, 46600, 54000, 40200, 44400,\n",
       "       47400, 35200, 37000, 48600, 41000, 49000, 52400, 48800, 49600,\n",
       "       59200, 42400, 43800, 41800, 42400, 42400, 72000, 60200, 67600,\n",
       "       42400, 42400, 62000, 73000, 45600, 61400, 42400, 42400, 41400,\n",
       "       42200, 50400, 48800, 70400, 64800, 64000, 66400, 66200, 58200,\n",
       "       70200, 42400, 70800, 42400, 42400, 64400, 44000, 40200, 46400,\n",
       "       44600, 49600, 57000, 42400, 55800, 47800, 43400, 57200, 54200,\n",
       "       40600, 45000, 58000, 49600, 44000, 52800, 66200, 72200, 56800,\n",
       "       66800, 56400, 45600, 40600, 32200, 44200, 38800, 43200, 47600,\n",
       "       32400, 35600, 39600, 46200, 42000, 47600, 46200, 40800, 37000,\n",
       "       50000, 49200, 46000, 44400, 38600, 45200, 39600, 34200, 38800,\n",
       "       44400, 41400, 42200, 39000, 37000, 41200, 38000, 37400, 65400,\n",
       "       33000, 47800, 62400, 35000, 34400, 46200, 49000, 53200, 45800,\n",
       "       48200, 37200, 60200, 36400, 41200, 35600, 43400, 45400, 45200,\n",
       "       50000, 39800, 41600, 33600, 43800, 55000, 43800, 46200, 42400,\n",
       "       42400, 42400, 42400, 42400, 27600, 27600, 30000, 27800, 26600,\n",
       "       26200, 20400, 20800, 21800, 22600, 24600, 17600, 14400, 21000,\n",
       "       14800, 20400, 23000, 30200, 46400, 19400, 27600, 25400, 26200,\n",
       "       25000, 17000, 42400, 12600, 11200, 14400, 24200, 16600, 17000,\n",
       "       42400, 23800, 55800, 34400, 55000, 30000, 34400, 35800, 32600,\n",
       "       14000, 14400, 15000, 20800, 17600, 16800, 33400, 28400, 41600,\n",
       "       26800, 23400, 16600, 20400, 21800, 22000, 19000, 29000, 28200,\n",
       "       32200, 28600, 23400, 26800, 19200, 16400, 16800, 25600, 21000,\n",
       "       34200, 29600, 30800, 21600, 23600, 29800, 25200, 28200, 26000,\n",
       "       26800, 30400, 32200, 35600, 28800, 28200, 25400, 27000, 29800,\n",
       "       40000, 32800, 35400, 39000, 40400, 42800, 39800, 38000, 38200,\n",
       "       38200, 40200, 39800, 39200, 46400, 59600, 27600, 26600, 33400,\n",
       "       24000, 29200, 42800, 46000, 47400, 50000, 43600, 41200, 42400,\n",
       "       38200, 41200, 30400, 14000, 16200, 27200, 40200, 43600, 49000,\n",
       "       46200, 39400, 36600, 42400, 35000, 33600, 44800, 41200, 47800,\n",
       "       44000, 38000], dtype=int64)"
      ]
     },
     "execution_count": 35,
     "metadata": {},
     "output_type": "execute_result"
    }
   ],
   "source": [
    "y"
   ]
  },
  {
   "cell_type": "code",
   "execution_count": 36,
   "id": "61458c0c",
   "metadata": {},
   "outputs": [
    {
     "name": "stdout",
     "output_type": "stream",
     "text": [
      "8882.949808906425\n"
     ]
    }
   ],
   "source": [
    "from sklearn.metrics import mean_squared_error, r2_score\n",
    "print(mean_squared_error(y_test,y_pred)**0.5)"
   ]
  },
  {
   "cell_type": "code",
   "execution_count": 37,
   "id": "5b3c2236",
   "metadata": {},
   "outputs": [
    {
     "name": "stdout",
     "output_type": "stream",
     "text": [
      "0.4830665554108965\n"
     ]
    }
   ],
   "source": [
    "print(r2_score(y_test,y_pred))"
   ]
  },
  {
   "cell_type": "code",
   "execution_count": 38,
   "id": "ad34aec2",
   "metadata": {},
   "outputs": [
    {
     "data": {
      "text/plain": [
       "array([48000, 43200, 69400, 66800, 72400, 57400, 45800, 44200, 33000,\n",
       "       37800, 30000, 37800, 43400, 40800, 36400, 39800, 46200, 35000,\n",
       "       40400, 36400, 27200, 39200, 30400, 29000, 31200, 27800, 33200,\n",
       "       29600, 36800, 42000, 25400, 29000, 26400, 26200, 27000, 37800,\n",
       "       40000, 42000, 48400, 61600, 69800, 53200, 50600, 49400, 42400,\n",
       "       38600, 40000, 33200, 28800, 38800, 39400, 41000, 50000, 46800,\n",
       "       37800, 70800, 49400, 63200, 46600, 39200, 37400, 32000, 44400,\n",
       "       50000, 66000, 47000, 38800, 44000, 34800, 41800, 48400, 43400,\n",
       "       45600, 46800, 48200, 42800, 40000, 41600, 42400, 40600, 56000,\n",
       "       47800, 49600, 45800, 47800, 53200, 45000, 44400, 47200, 57400,\n",
       "       45200, 44000, 45800, 50000, 41200, 56800, 42800, 42400, 42400,\n",
       "       66400, 55000, 53000, 37200, 38600, 40200, 39000, 39000, 40800,\n",
       "       39600, 38800, 43400, 45600, 37600, 37400, 37000, 36600, 42400,\n",
       "       38400, 40800, 38600, 44000, 40600, 41000, 34600, 37600, 42800,\n",
       "       31400, 32400, 36000, 28600, 38400, 39200, 46000, 36800, 31200,\n",
       "       36200, 34800, 34200, 26600, 35600, 28000, 28800, 26800, 31200,\n",
       "       23600, 27600, 31200, 29200, 35600, 30800, 43000, 39200, 30600,\n",
       "       38800, 34000, 31200, 26200, 42400, 48600, 46600, 54000, 42400,\n",
       "       42400, 42400, 45400, 50000, 42400, 47600, 47600, 44600, 34800,\n",
       "       38200, 46200, 47200, 45200, 58800, 46400, 49200, 59800, 42400,\n",
       "       42400, 72400, 42400, 65000, 52800, 59200, 42400, 64000, 59600,\n",
       "       69800, 66000, 61000, 72800, 62200, 58200, 42400, 66600, 60600,\n",
       "       69200, 69800, 65800, 48200, 42400, 42400, 42400, 45200, 48800,\n",
       "       45000, 48800, 40000, 43400, 38600, 44800, 56200, 47400, 50000,\n",
       "       46600, 57400, 43000, 46000, 53400, 43400, 55000, 60200, 42400,\n",
       "       42400, 42400, 63200, 42400, 63000, 48600, 63400, 42400, 42400,\n",
       "       58000, 48000, 50200, 63000, 47400, 46600, 54000, 40200, 44400,\n",
       "       47400, 35200, 37000, 48600, 41000, 49000, 52400, 48800, 49600,\n",
       "       59200, 42400, 43800, 41800, 42400, 42400, 72000, 60200, 67600,\n",
       "       42400, 42400, 62000, 73000, 45600, 61400, 42400, 42400, 41400,\n",
       "       42200, 50400, 48800, 70400, 64800, 64000, 66400, 66200, 58200,\n",
       "       70200, 42400, 70800, 42400, 42400, 64400, 44000, 40200, 46400,\n",
       "       44600, 49600, 57000, 42400, 55800, 47800, 43400, 57200, 54200,\n",
       "       40600, 45000, 58000, 49600, 44000, 52800, 66200, 72200, 56800,\n",
       "       66800, 56400, 45600, 40600, 32200, 44200, 38800, 43200, 47600,\n",
       "       32400, 35600, 39600, 46200, 42000, 47600, 46200, 40800, 37000,\n",
       "       50000, 49200, 46000, 44400, 38600, 45200, 39600, 34200, 38800,\n",
       "       44400, 41400, 42200, 39000, 37000, 41200, 38000, 37400, 65400,\n",
       "       33000, 47800, 62400, 35000, 34400, 46200, 49000, 53200, 45800,\n",
       "       48200, 37200, 60200, 36400, 41200, 35600, 43400, 45400, 45200,\n",
       "       50000, 39800, 41600, 33600, 43800, 55000, 43800, 46200, 42400,\n",
       "       42400, 42400, 42400, 42400, 27600, 27600, 30000, 27800, 26600,\n",
       "       26200, 20400, 20800, 21800, 22600, 24600, 17600, 14400, 21000,\n",
       "       14800, 20400, 23000, 30200, 46400, 19400, 27600, 25400, 26200,\n",
       "       25000, 17000, 42400, 12600, 11200, 14400, 24200, 16600, 17000,\n",
       "       42400, 23800, 55800, 34400, 55000, 30000, 34400, 35800, 32600,\n",
       "       14000, 14400, 15000, 20800, 17600, 16800, 33400, 28400, 41600,\n",
       "       26800, 23400, 16600, 20400, 21800, 22000, 19000, 29000, 28200,\n",
       "       32200, 28600, 23400, 26800, 19200, 16400, 16800, 25600, 21000,\n",
       "       34200, 29600, 30800, 21600, 23600, 29800, 25200, 28200, 26000,\n",
       "       26800, 30400, 32200, 35600, 28800, 28200, 25400, 27000, 29800,\n",
       "       40000, 32800, 35400, 39000, 40400, 42800, 39800, 38000, 38200,\n",
       "       38200, 40200, 39800, 39200, 46400, 59600, 27600, 26600, 33400,\n",
       "       24000, 29200, 42800, 46000, 47400, 50000, 43600, 41200, 42400,\n",
       "       38200, 41200, 30400, 14000, 16200, 27200, 40200, 43600, 49000,\n",
       "       46200, 39400, 36600, 42400, 35000, 33600, 44800, 41200, 47800,\n",
       "       44000, 38000], dtype=int64)"
      ]
     },
     "execution_count": 38,
     "metadata": {},
     "output_type": "execute_result"
    }
   ],
   "source": [
    "y"
   ]
  },
  {
   "cell_type": "code",
   "execution_count": 39,
   "id": "bff76586",
   "metadata": {},
   "outputs": [
    {
     "name": "stdout",
     "output_type": "stream",
     "text": [
      "Requirement already satisfied: gradio in c:\\users\\komal\\anaconda3\\lib\\site-packages (4.37.1)\n",
      "Collecting gradio\n",
      "  Downloading gradio-5.7.1-py3-none-any.whl.metadata (16 kB)\n",
      "Requirement already satisfied: aiofiles<24.0,>=22.0 in c:\\users\\komal\\anaconda3\\lib\\site-packages (from gradio) (23.2.1)\n",
      "Requirement already satisfied: anyio<5.0,>=3.0 in c:\\users\\komal\\anaconda3\\lib\\site-packages (from gradio) (4.2.0)\n",
      "Collecting fastapi<1.0,>=0.115.2 (from gradio)\n",
      "  Downloading fastapi-0.115.5-py3-none-any.whl.metadata (27 kB)\n",
      "Requirement already satisfied: ffmpy in c:\\users\\komal\\anaconda3\\lib\\site-packages (from gradio) (0.3.2)\n",
      "Collecting gradio-client==1.5.0 (from gradio)\n",
      "  Downloading gradio_client-1.5.0-py3-none-any.whl.metadata (7.1 kB)\n",
      "Requirement already satisfied: httpx>=0.24.1 in c:\\users\\komal\\anaconda3\\lib\\site-packages (from gradio) (0.27.2)\n",
      "Collecting huggingface-hub>=0.25.1 (from gradio)\n",
      "  Downloading huggingface_hub-0.26.3-py3-none-any.whl.metadata (13 kB)\n",
      "Requirement already satisfied: jinja2<4.0 in c:\\users\\komal\\anaconda3\\lib\\site-packages (from gradio) (3.1.3)\n",
      "Requirement already satisfied: markupsafe~=2.0 in c:\\users\\komal\\anaconda3\\lib\\site-packages (from gradio) (2.1.3)\n",
      "Requirement already satisfied: numpy<3.0,>=1.0 in c:\\users\\komal\\anaconda3\\lib\\site-packages (from gradio) (1.26.4)\n",
      "Requirement already satisfied: orjson~=3.0 in c:\\users\\komal\\anaconda3\\lib\\site-packages (from gradio) (3.10.5)\n",
      "Requirement already satisfied: packaging in c:\\users\\komal\\anaconda3\\lib\\site-packages (from gradio) (23.1)\n",
      "Requirement already satisfied: pandas<3.0,>=1.0 in c:\\users\\komal\\anaconda3\\lib\\site-packages (from gradio) (2.1.4)\n",
      "Requirement already satisfied: pillow<12.0,>=8.0 in c:\\users\\komal\\anaconda3\\lib\\site-packages (from gradio) (10.2.0)\n",
      "Requirement already satisfied: pydantic>=2.0 in c:\\users\\komal\\anaconda3\\lib\\site-packages (from gradio) (2.7.4)\n",
      "Requirement already satisfied: pydub in c:\\users\\komal\\anaconda3\\lib\\site-packages (from gradio) (0.25.1)\n",
      "Collecting python-multipart==0.0.12 (from gradio)\n",
      "  Downloading python_multipart-0.0.12-py3-none-any.whl.metadata (1.9 kB)\n",
      "Requirement already satisfied: pyyaml<7.0,>=5.0 in c:\\users\\komal\\anaconda3\\lib\\site-packages (from gradio) (6.0.1)\n",
      "Requirement already satisfied: ruff>=0.2.2 in c:\\users\\komal\\anaconda3\\lib\\site-packages (from gradio) (0.4.10)\n",
      "Collecting safehttpx<1.0,>=0.1.1 (from gradio)\n",
      "  Downloading safehttpx-0.1.6-py3-none-any.whl.metadata (4.2 kB)\n",
      "Requirement already satisfied: semantic-version~=2.0 in c:\\users\\komal\\anaconda3\\lib\\site-packages (from gradio) (2.10.0)\n",
      "Collecting starlette<1.0,>=0.40.0 (from gradio)\n",
      "  Downloading starlette-0.41.3-py3-none-any.whl.metadata (6.0 kB)\n",
      "Requirement already satisfied: tomlkit==0.12.0 in c:\\users\\komal\\anaconda3\\lib\\site-packages (from gradio) (0.12.0)\n",
      "Requirement already satisfied: typer<1.0,>=0.12 in c:\\users\\komal\\anaconda3\\lib\\site-packages (from gradio) (0.12.3)\n",
      "Requirement already satisfied: typing-extensions~=4.0 in c:\\users\\komal\\anaconda3\\lib\\site-packages (from gradio) (4.9.0)\n",
      "Requirement already satisfied: uvicorn>=0.14.0 in c:\\users\\komal\\anaconda3\\lib\\site-packages (from gradio) (0.30.1)\n",
      "Requirement already satisfied: fsspec in c:\\users\\komal\\anaconda3\\lib\\site-packages (from gradio-client==1.5.0->gradio) (2023.10.0)\n",
      "Requirement already satisfied: websockets<13.0,>=10.0 in c:\\users\\komal\\anaconda3\\lib\\site-packages (from gradio-client==1.5.0->gradio) (10.4)\n",
      "Requirement already satisfied: idna>=2.8 in c:\\users\\komal\\anaconda3\\lib\\site-packages (from anyio<5.0,>=3.0->gradio) (2.10)\n",
      "Requirement already satisfied: sniffio>=1.1 in c:\\users\\komal\\anaconda3\\lib\\site-packages (from anyio<5.0,>=3.0->gradio) (1.3.0)\n",
      "Requirement already satisfied: certifi in c:\\users\\komal\\anaconda3\\lib\\site-packages (from httpx>=0.24.1->gradio) (2024.7.4)\n",
      "Requirement already satisfied: httpcore==1.* in c:\\users\\komal\\anaconda3\\lib\\site-packages (from httpx>=0.24.1->gradio) (1.0.5)\n",
      "Requirement already satisfied: h11<0.15,>=0.13 in c:\\users\\komal\\anaconda3\\lib\\site-packages (from httpcore==1.*->httpx>=0.24.1->gradio) (0.14.0)\n",
      "Requirement already satisfied: filelock in c:\\users\\komal\\anaconda3\\lib\\site-packages (from huggingface-hub>=0.25.1->gradio) (3.13.1)\n",
      "Requirement already satisfied: requests in c:\\users\\komal\\anaconda3\\lib\\site-packages (from huggingface-hub>=0.25.1->gradio) (2.31.0)\n",
      "Requirement already satisfied: tqdm>=4.42.1 in c:\\users\\komal\\anaconda3\\lib\\site-packages (from huggingface-hub>=0.25.1->gradio) (4.65.0)\n",
      "Requirement already satisfied: python-dateutil>=2.8.2 in c:\\users\\komal\\anaconda3\\lib\\site-packages (from pandas<3.0,>=1.0->gradio) (2.8.2)\n",
      "Requirement already satisfied: pytz>=2020.1 in c:\\users\\komal\\anaconda3\\lib\\site-packages (from pandas<3.0,>=1.0->gradio) (2023.3.post1)\n",
      "Requirement already satisfied: tzdata>=2022.1 in c:\\users\\komal\\anaconda3\\lib\\site-packages (from pandas<3.0,>=1.0->gradio) (2023.3)\n",
      "Requirement already satisfied: annotated-types>=0.4.0 in c:\\users\\komal\\anaconda3\\lib\\site-packages (from pydantic>=2.0->gradio) (0.7.0)\n",
      "Requirement already satisfied: pydantic-core==2.18.4 in c:\\users\\komal\\anaconda3\\lib\\site-packages (from pydantic>=2.0->gradio) (2.18.4)\n",
      "Requirement already satisfied: click>=8.0.0 in c:\\users\\komal\\anaconda3\\lib\\site-packages (from typer<1.0,>=0.12->gradio) (8.1.7)\n",
      "Requirement already satisfied: shellingham>=1.3.0 in c:\\users\\komal\\anaconda3\\lib\\site-packages (from typer<1.0,>=0.12->gradio) (1.5.4)\n",
      "Requirement already satisfied: rich>=10.11.0 in c:\\users\\komal\\anaconda3\\lib\\site-packages (from typer<1.0,>=0.12->gradio) (13.3.5)\n",
      "Requirement already satisfied: colorama in c:\\users\\komal\\anaconda3\\lib\\site-packages (from click>=8.0.0->typer<1.0,>=0.12->gradio) (0.4.6)\n",
      "Requirement already satisfied: six>=1.5 in c:\\users\\komal\\anaconda3\\lib\\site-packages (from python-dateutil>=2.8.2->pandas<3.0,>=1.0->gradio) (1.16.0)\n",
      "Requirement already satisfied: markdown-it-py<3.0.0,>=2.2.0 in c:\\users\\komal\\anaconda3\\lib\\site-packages (from rich>=10.11.0->typer<1.0,>=0.12->gradio) (2.2.0)\n",
      "Requirement already satisfied: pygments<3.0.0,>=2.13.0 in c:\\users\\komal\\anaconda3\\lib\\site-packages (from rich>=10.11.0->typer<1.0,>=0.12->gradio) (2.15.1)\n",
      "Requirement already satisfied: charset-normalizer<4,>=2 in c:\\users\\komal\\anaconda3\\lib\\site-packages (from requests->huggingface-hub>=0.25.1->gradio) (2.0.4)\n",
      "Requirement already satisfied: urllib3<3,>=1.21.1 in c:\\users\\komal\\anaconda3\\lib\\site-packages (from requests->huggingface-hub>=0.25.1->gradio) (2.2.2)\n",
      "Requirement already satisfied: mdurl~=0.1 in c:\\users\\komal\\anaconda3\\lib\\site-packages (from markdown-it-py<3.0.0,>=2.2.0->rich>=10.11.0->typer<1.0,>=0.12->gradio) (0.1.0)\n",
      "Downloading gradio-5.7.1-py3-none-any.whl (57.1 MB)\n",
      "   ---------------------------------------- 0.0/57.1 MB ? eta -:--:--\n",
      "   -- ------------------------------------- 3.9/57.1 MB 19.5 MB/s eta 0:00:03\n",
      "   ---- ----------------------------------- 6.6/57.1 MB 16.1 MB/s eta 0:00:04\n",
      "   ------ --------------------------------- 9.4/57.1 MB 15.0 MB/s eta 0:00:04\n",
      "   -------- ------------------------------- 12.1/57.1 MB 14.5 MB/s eta 0:00:04\n",
      "   --------- ------------------------------ 14.2/57.1 MB 13.3 MB/s eta 0:00:04\n",
      "   ------------ --------------------------- 17.8/57.1 MB 13.9 MB/s eta 0:00:03\n",
      "   -------------- ------------------------- 20.4/57.1 MB 13.9 MB/s eta 0:00:03\n",
      "   ---------------- ----------------------- 23.3/57.1 MB 13.7 MB/s eta 0:00:03\n",
      "   ------------------ --------------------- 26.2/57.1 MB 13.6 MB/s eta 0:00:03\n",
      "   -------------------- ------------------- 28.8/57.1 MB 13.5 MB/s eta 0:00:03\n",
      "   ---------------------- ----------------- 31.7/57.1 MB 13.5 MB/s eta 0:00:02\n",
      "   ------------------------ --------------- 34.6/57.1 MB 13.5 MB/s eta 0:00:02\n",
      "   -------------------------- ------------- 37.2/57.1 MB 13.4 MB/s eta 0:00:02\n",
      "   --------------------------- ------------ 39.8/57.1 MB 13.4 MB/s eta 0:00:02\n",
      "   ----------------------------- ---------- 42.7/57.1 MB 13.4 MB/s eta 0:00:02\n",
      "   ------------------------------- -------- 45.4/57.1 MB 13.3 MB/s eta 0:00:01\n",
      "   --------------------------------- ------ 48.0/57.1 MB 13.3 MB/s eta 0:00:01\n",
      "   ----------------------------------- ---- 50.9/57.1 MB 13.3 MB/s eta 0:00:01\n",
      "   ------------------------------------- -- 53.5/57.1 MB 13.3 MB/s eta 0:00:01\n",
      "   ---------------------------------------  56.1/57.1 MB 13.2 MB/s eta 0:00:01\n",
      "   ---------------------------------------  56.9/57.1 MB 13.2 MB/s eta 0:00:01\n",
      "   ---------------------------------------- 57.1/57.1 MB 12.7 MB/s eta 0:00:00\n",
      "Downloading gradio_client-1.5.0-py3-none-any.whl (320 kB)\n",
      "Downloading python_multipart-0.0.12-py3-none-any.whl (23 kB)\n",
      "Downloading fastapi-0.115.5-py3-none-any.whl (94 kB)\n",
      "Downloading huggingface_hub-0.26.3-py3-none-any.whl (447 kB)\n",
      "Downloading safehttpx-0.1.6-py3-none-any.whl (8.7 kB)\n",
      "Downloading starlette-0.41.3-py3-none-any.whl (73 kB)\n",
      "Installing collected packages: python-multipart, starlette, huggingface-hub, safehttpx, gradio-client, fastapi, gradio\n",
      "  Attempting uninstall: python-multipart\n",
      "    Found existing installation: python-multipart 0.0.9\n",
      "    Uninstalling python-multipart-0.0.9:\n",
      "      Successfully uninstalled python-multipart-0.0.9\n",
      "  Attempting uninstall: starlette\n",
      "    Found existing installation: starlette 0.37.2\n",
      "    Uninstalling starlette-0.37.2:\n",
      "      Successfully uninstalled starlette-0.37.2\n",
      "  Attempting uninstall: huggingface-hub\n",
      "    Found existing installation: huggingface-hub 0.23.4\n",
      "    Uninstalling huggingface-hub-0.23.4:\n",
      "      Successfully uninstalled huggingface-hub-0.23.4\n",
      "  Attempting uninstall: gradio-client\n",
      "    Found existing installation: gradio_client 1.0.2\n",
      "    Uninstalling gradio_client-1.0.2:\n",
      "      Successfully uninstalled gradio_client-1.0.2\n",
      "  Attempting uninstall: fastapi\n",
      "    Found existing installation: fastapi 0.111.0\n",
      "    Uninstalling fastapi-0.111.0:\n",
      "      Successfully uninstalled fastapi-0.111.0\n",
      "  Attempting uninstall: gradio\n",
      "    Found existing installation: gradio 4.37.1\n",
      "    Uninstalling gradio-4.37.1:\n",
      "      Successfully uninstalled gradio-4.37.1\n",
      "Successfully installed fastapi-0.115.5 gradio-5.7.1 gradio-client-1.5.0 huggingface-hub-0.26.3 python-multipart-0.0.12 safehttpx-0.1.6 starlette-0.41.3\n"
     ]
    }
   ],
   "source": [
    "! pip install --upgrade gradio\n"
   ]
  },
  {
   "cell_type": "code",
   "execution_count": 40,
   "id": "8f215b3c-baf9-4625-853e-133987e85e2a",
   "metadata": {},
   "outputs": [
    {
     "name": "stdout",
     "output_type": "stream",
     "text": [
      "Requirement already satisfied: huggingface_hub in c:\\users\\komal\\anaconda3\\lib\\site-packages (0.26.3)\n",
      "Requirement already satisfied: filelock in c:\\users\\komal\\anaconda3\\lib\\site-packages (from huggingface_hub) (3.13.1)\n",
      "Requirement already satisfied: fsspec>=2023.5.0 in c:\\users\\komal\\anaconda3\\lib\\site-packages (from huggingface_hub) (2023.10.0)\n",
      "Requirement already satisfied: packaging>=20.9 in c:\\users\\komal\\anaconda3\\lib\\site-packages (from huggingface_hub) (23.1)\n",
      "Requirement already satisfied: pyyaml>=5.1 in c:\\users\\komal\\anaconda3\\lib\\site-packages (from huggingface_hub) (6.0.1)\n",
      "Requirement already satisfied: requests in c:\\users\\komal\\anaconda3\\lib\\site-packages (from huggingface_hub) (2.31.0)\n",
      "Requirement already satisfied: tqdm>=4.42.1 in c:\\users\\komal\\anaconda3\\lib\\site-packages (from huggingface_hub) (4.65.0)\n",
      "Requirement already satisfied: typing-extensions>=3.7.4.3 in c:\\users\\komal\\anaconda3\\lib\\site-packages (from huggingface_hub) (4.9.0)\n",
      "Requirement already satisfied: colorama in c:\\users\\komal\\anaconda3\\lib\\site-packages (from tqdm>=4.42.1->huggingface_hub) (0.4.6)\n",
      "Requirement already satisfied: charset-normalizer<4,>=2 in c:\\users\\komal\\anaconda3\\lib\\site-packages (from requests->huggingface_hub) (2.0.4)\n",
      "Requirement already satisfied: idna<4,>=2.5 in c:\\users\\komal\\anaconda3\\lib\\site-packages (from requests->huggingface_hub) (2.10)\n",
      "Requirement already satisfied: urllib3<3,>=1.21.1 in c:\\users\\komal\\anaconda3\\lib\\site-packages (from requests->huggingface_hub) (2.2.2)\n",
      "Requirement already satisfied: certifi>=2017.4.17 in c:\\users\\komal\\anaconda3\\lib\\site-packages (from requests->huggingface_hub) (2024.7.4)\n",
      "Note: you may need to restart the kernel to use updated packages.\n"
     ]
    }
   ],
   "source": [
    "pip install huggingface_hub"
   ]
  },
  {
   "cell_type": "code",
   "execution_count": 44,
   "id": "f750bd95-c13e-42bc-aa53-5db95b95b543",
   "metadata": {},
   "outputs": [],
   "source": [
    "# huggingface-cli login"
   ]
  },
  {
   "cell_type": "code",
   "execution_count": 45,
   "id": "2a3dfbd2-d4f4-4d54-ac81-1de79f680ccf",
   "metadata": {},
   "outputs": [],
   "source": [
    "# gradio deploy"
   ]
  },
  {
   "cell_type": "code",
   "execution_count": 46,
   "id": "ebbc8013",
   "metadata": {},
   "outputs": [
    {
     "name": "stdout",
     "output_type": "stream",
     "text": [
      "* Running on local URL:  http://127.0.0.1:7860\n",
      "* Running on public URL: https://00d76b109a376ff213.gradio.live\n",
      "\n",
      "This share link expires in 72 hours. For free permanent hosting and GPU upgrades, run `gradio deploy` from the terminal in the working directory to deploy to Hugging Face Spaces (https://huggingface.co/spaces)\n"
     ]
    },
    {
     "data": {
      "text/html": [
       "<div><iframe src=\"https://00d76b109a376ff213.gradio.live\" width=\"100%\" height=\"500\" allow=\"autoplay; camera; microphone; clipboard-read; clipboard-write;\" frameborder=\"0\" allowfullscreen></iframe></div>"
      ],
      "text/plain": [
       "<IPython.core.display.HTML object>"
      ]
     },
     "metadata": {},
     "output_type": "display_data"
    },
    {
     "data": {
      "text/plain": []
     },
     "execution_count": 46,
     "metadata": {},
     "output_type": "execute_result"
    }
   ],
   "source": [
    "import gradio as gr\n",
    "import numpy as np\n",
    "import pickle\n",
    "\n",
    "\n",
    "# Define the prediction function\n",
    "def predict_marketing_expense(*features):\n",
    "    features = np.array(features).reshape(1, -1)\n",
    "    prediction = lr.predict(features)\n",
    "    return prediction[0]\n",
    "\n",
    "# Define the interface with reference ranges\n",
    "inputs = [\n",
    "    gr.Slider(minimum=20.1264, maximum=199.6592, label=\"Marketing expense\"),\n",
    "    gr.Slider(minimum=55.92, maximum=110.48, label=\"Production expense\"),\n",
    "    gr.Slider(minimum=0.129, maximum=0.615, label=\"Multiplex coverage\"),\n",
    "    gr.Slider(minimum=27108.4, maximum=42723.505, label=\"Budget\"),\n",
    "    gr.Slider(minimum=76.4, maximum=173.5, label=\"Movie length\"),\n",
    "    gr.Slider(minimum=5.28, maximum=9.435, label=\"Lead Actor Rating\"),\n",
    "    gr.Slider(minimum=5.445, maximum=9.54, label=\"Lead Actress Rating\"),\n",
    "    gr.Slider(minimum=5.26, maximum=9.425, label=\"Director Rating\"),\n",
    "    gr.Slider(minimum=5.42, maximum=9.635, label=\"Producer Rating\"),\n",
    "    gr.Slider(minimum=6.6, maximum=9.4, label=\"Critic Rating\"),\n",
    "    gr.Slider(minimum=276179, maximum=567784, label=\"Trailer views\"),\n",
    "    gr.Checkbox(label=\"3D available\"),\n",
    "    gr.Slider(minimum=105.36, maximum=217.52, label=\"Time taken\"),\n",
    "    gr.Slider(minimum=201.152, maximum=308.0, label=\"Twitter hashtags\"),\n",
    "    gr.Slider(minimum=3, maximum=60, label=\"Average age of actors\"),\n",
    "    gr.Slider(minimum=333.0, maximum=838.0, label=\"Number of multiplex\"),\n",
    "    gr.Slider(label=\"Comedy\"),\n",
    "    gr.Slider(label=\"Drama\"),\n",
    "    gr.Slider(label=\"Thriller\")\n",
    "]\n",
    "\n",
    "output = gr.Textbox(label=\"Prediction\")\n",
    "\n",
    "# Sample inputs for demonstration\n",
    "sample_inputs = [2.0126400e+01, 5.9620000e+01, 4.6200000e-01, 3.6524125e+04,\n",
    "       1.3870000e+02, 7.8250000e+00, 8.0950000e+00, 7.9100000e+00,\n",
    "       7.9950000e+00, 7.9400000e+00, 5.2736700e+05, 1.0000000e+00,\n",
    "       1.0960000e+02, 2.2384000e+02, 2.3000000e+01, 4.9400000e+02,\n",
    "       0.0000000e+00, 0.0000000e+00, 1.0000000e+00]\n",
    "\n",
    "# Launch the interface\n",
    "iface = gr.Interface(fn=predict_marketing_expense, inputs=inputs, outputs=output, examples=[sample_inputs])\n",
    "iface.launch(share=True)\n"
   ]
  },
  {
   "cell_type": "code",
   "execution_count": 47,
   "id": "de69b5d2",
   "metadata": {},
   "outputs": [
    {
     "data": {
      "text/plain": [
       "53433.1937440146"
      ]
     },
     "execution_count": 47,
     "metadata": {},
     "output_type": "execute_result"
    }
   ],
   "source": [
    "sample_inputs = [2.0126400e+01, 5.9620000e+01, 4.6200000e-01, 3.6524125e+04,\n",
    "       1.3870000e+02, 7.8250000e+00, 8.0950000e+00, 7.9100000e+00,\n",
    "       7.9950000e+00, 7.9400000e+00, 5.2736700e+05, 1.0000000e+00,\n",
    "       1.0960000e+02, 2.2384000e+02, 2.3000000e+01, 4.9400000e+02,\n",
    "       0.0000000e+00, 0.0000000e+00, 1.0000000e+00]\n",
    "\n",
    "predict_marketing_expense(sample_inputs)"
   ]
  },
  {
   "cell_type": "code",
   "execution_count": 49,
   "id": "be987cfd",
   "metadata": {},
   "outputs": [
    {
     "data": {
      "text/plain": [
       "array([2.0126400e+01, 5.9620000e+01, 4.6200000e-01, 3.6524125e+04,\n",
       "       1.3870000e+02, 7.8250000e+00, 8.0950000e+00, 7.9100000e+00,\n",
       "       7.9950000e+00, 7.9400000e+00, 5.2736700e+05, 1.0000000e+00,\n",
       "       1.0960000e+02, 2.2384000e+02, 2.3000000e+01, 4.9400000e+02,\n",
       "       0.0000000e+00, 0.0000000e+00, 1.0000000e+00])"
      ]
     },
     "execution_count": 49,
     "metadata": {},
     "output_type": "execute_result"
    }
   ],
   "source": [
    "X[0, :]"
   ]
  },
  {
   "cell_type": "code",
   "execution_count": 50,
   "id": "72201291",
   "metadata": {},
   "outputs": [
    {
     "data": {
      "text/plain": [
       "48000"
      ]
     },
     "execution_count": 50,
     "metadata": {},
     "output_type": "execute_result"
    }
   ],
   "source": [
    "y[0]"
   ]
  },
  {
   "cell_type": "code",
   "execution_count": null,
   "id": "b21c091e",
   "metadata": {},
   "outputs": [],
   "source": []
  }
 ],
 "metadata": {
  "kernelspec": {
   "display_name": "Python 3 (ipykernel)",
   "language": "python",
   "name": "python3"
  },
  "language_info": {
   "codemirror_mode": {
    "name": "ipython",
    "version": 3
   },
   "file_extension": ".py",
   "mimetype": "text/x-python",
   "name": "python",
   "nbconvert_exporter": "python",
   "pygments_lexer": "ipython3",
   "version": "3.11.7"
  }
 },
 "nbformat": 4,
 "nbformat_minor": 5
}
